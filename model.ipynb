{
 "cells": [
  {
   "cell_type": "markdown",
   "id": "e152406d",
   "metadata": {},
   "source": [
    "## Importing the Libraries"
   ]
  },
  {
   "cell_type": "code",
   "execution_count": 14,
   "id": "df88b708",
   "metadata": {},
   "outputs": [],
   "source": [
    "import numpy as np\n",
    "import pandas as pd\n",
    "import matplotlib.pyplot as plt\n",
    "import seaborn as sns\n",
    "import os\n",
    "from datetime import datetime\n",
    "from sklearn.preprocessing import StandardScaler\n",
    "from tensorflow.keras.models import Sequential\n",
    "from tensorflow.keras.layers import LSTM, Dense,Dropout\n",
    "from tensorflow.keras.metrics import RootMeanSquaredError\n",
    "import plotly.graph_objects as go \n",
    "import joblib\n",
    "from statsmodels.tsa.seasonal import seasonal_decompose"
   ]
  },
  {
   "cell_type": "markdown",
   "id": "e8f4cbb2",
   "metadata": {},
   "source": [
    "## Get the Data"
   ]
  },
  {
   "cell_type": "code",
   "execution_count": 2,
   "id": "3aa3df48",
   "metadata": {},
   "outputs": [
    {
     "data": {
      "application/vnd.microsoft.datawrangler.viewer.v0+json": {
       "columns": [
        {
         "name": "index",
         "rawType": "int64",
         "type": "integer"
        },
        {
         "name": "index",
         "rawType": "int64",
         "type": "integer"
        },
        {
         "name": "date",
         "rawType": "object",
         "type": "string"
        },
        {
         "name": "open",
         "rawType": "float64",
         "type": "float"
        },
        {
         "name": "high",
         "rawType": "float64",
         "type": "float"
        },
        {
         "name": "low",
         "rawType": "float64",
         "type": "float"
        },
        {
         "name": "close",
         "rawType": "float64",
         "type": "float"
        },
        {
         "name": "volume",
         "rawType": "int64",
         "type": "integer"
        },
        {
         "name": "Name",
         "rawType": "object",
         "type": "string"
        }
       ],
       "conversionMethod": "pd.DataFrame",
       "ref": "3a804a41-76e4-4493-936c-27409feadf5b",
       "rows": [
        [
         "0",
         "390198",
         "2013-02-08",
         "27.35",
         "27.71",
         "27.31",
         "27.55",
         "33318306",
         "MSFT"
        ],
        [
         "1",
         "390199",
         "2013-02-11",
         "27.65",
         "27.92",
         "27.5",
         "27.86",
         "32247549",
         "MSFT"
        ],
        [
         "2",
         "390200",
         "2013-02-12",
         "27.88",
         "28.0",
         "27.75",
         "27.88",
         "35990829",
         "MSFT"
        ],
        [
         "3",
         "390201",
         "2013-02-13",
         "27.93",
         "28.11",
         "27.88",
         "28.03",
         "41715530",
         "MSFT"
        ],
        [
         "4",
         "390202",
         "2013-02-14",
         "27.92",
         "28.06",
         "27.87",
         "28.04",
         "32663174",
         "MSFT"
        ],
        [
         "5",
         "390203",
         "2013-02-15",
         "28.04",
         "28.16",
         "27.875",
         "28.01",
         "49650538",
         "MSFT"
        ],
        [
         "6",
         "390204",
         "2013-02-19",
         "27.8801",
         "28.09",
         "27.8",
         "28.045",
         "38804616",
         "MSFT"
        ],
        [
         "7",
         "390205",
         "2013-02-20",
         "28.13",
         "28.2",
         "27.83",
         "27.87",
         "44109412",
         "MSFT"
        ],
        [
         "8",
         "390206",
         "2013-02-21",
         "27.74",
         "27.74",
         "27.23",
         "27.49",
         "49078338",
         "MSFT"
        ],
        [
         "9",
         "390207",
         "2013-02-22",
         "27.68",
         "27.76",
         "27.48",
         "27.76",
         "31425726",
         "MSFT"
        ],
        [
         "10",
         "390208",
         "2013-02-25",
         "27.97",
         "28.05",
         "27.37",
         "27.37",
         "48011248",
         "MSFT"
        ],
        [
         "11",
         "390209",
         "2013-02-26",
         "27.38",
         "27.6",
         "27.34",
         "27.37",
         "49917353",
         "MSFT"
        ],
        [
         "12",
         "390210",
         "2013-02-27",
         "27.42",
         "28.0",
         "27.33",
         "27.81",
         "36390889",
         "MSFT"
        ],
        [
         "13",
         "390211",
         "2013-02-28",
         "27.88",
         "27.97",
         "27.74",
         "27.8",
         "35836861",
         "MSFT"
        ],
        [
         "14",
         "390212",
         "2013-03-01",
         "27.72",
         "27.98",
         "27.52",
         "27.95",
         "34849287",
         "MSFT"
        ],
        [
         "15",
         "390213",
         "2013-03-04",
         "27.85",
         "28.15",
         "27.7",
         "28.15",
         "38163549",
         "MSFT"
        ],
        [
         "16",
         "390214",
         "2013-03-05",
         "28.29",
         "28.54",
         "28.16",
         "28.35",
         "41431097",
         "MSFT"
        ],
        [
         "17",
         "390215",
         "2013-03-06",
         "28.21",
         "28.23",
         "27.78",
         "28.09",
         "51448452",
         "MSFT"
        ],
        [
         "18",
         "390216",
         "2013-03-07",
         "28.11",
         "28.28",
         "28.005",
         "28.14",
         "29196691",
         "MSFT"
        ],
        [
         "19",
         "390217",
         "2013-03-08",
         "28.25",
         "28.33",
         "27.96",
         "28.0",
         "37667133",
         "MSFT"
        ],
        [
         "20",
         "390218",
         "2013-03-11",
         "27.94",
         "27.97",
         "27.67",
         "27.87",
         "36627200",
         "MSFT"
        ],
        [
         "21",
         "390219",
         "2013-03-12",
         "27.84",
         "27.95",
         "27.64",
         "27.91",
         "39252591",
         "MSFT"
        ],
        [
         "22",
         "390220",
         "2013-03-13",
         "27.87",
         "28.02",
         "27.75",
         "27.915",
         "29093296",
         "MSFT"
        ],
        [
         "23",
         "390221",
         "2013-03-14",
         "28.0",
         "28.16",
         "27.93",
         "28.135",
         "55910657",
         "MSFT"
        ],
        [
         "24",
         "390222",
         "2013-03-15",
         "28.03",
         "28.16",
         "27.98",
         "28.035",
         "92709815",
         "MSFT"
        ],
        [
         "25",
         "390223",
         "2013-03-18",
         "27.88",
         "28.28",
         "27.81",
         "28.1",
         "44825522",
         "MSFT"
        ],
        [
         "26",
         "390224",
         "2013-03-19",
         "28.12",
         "28.22",
         "28.03",
         "28.18",
         "51901568",
         "MSFT"
        ],
        [
         "27",
         "390225",
         "2013-03-20",
         "28.34",
         "28.49",
         "28.18",
         "28.315",
         "35447348",
         "MSFT"
        ],
        [
         "28",
         "390226",
         "2013-03-21",
         "28.11",
         "28.36",
         "28.05",
         "28.11",
         "34233061",
         "MSFT"
        ],
        [
         "29",
         "390227",
         "2013-03-22",
         "28.19",
         "28.3379",
         "28.1",
         "28.25",
         "28689434",
         "MSFT"
        ],
        [
         "30",
         "390228",
         "2013-03-25",
         "28.3",
         "28.35",
         "27.96",
         "28.16",
         "44153931",
         "MSFT"
        ],
        [
         "31",
         "390229",
         "2013-03-26",
         "28.24",
         "28.34",
         "28.11",
         "28.155",
         "27822154",
         "MSFT"
        ],
        [
         "32",
         "390230",
         "2013-03-27",
         "28.14",
         "28.445",
         "28.08",
         "28.37",
         "36046203",
         "MSFT"
        ],
        [
         "33",
         "390231",
         "2013-03-28",
         "28.32",
         "28.66",
         "28.26",
         "28.605",
         "55453713",
         "MSFT"
        ],
        [
         "34",
         "390232",
         "2013-04-01",
         "28.64",
         "28.66",
         "28.36",
         "28.61",
         "29199115",
         "MSFT"
        ],
        [
         "35",
         "390233",
         "2013-04-02",
         "28.59",
         "28.85",
         "28.52",
         "28.8",
         "28455715",
         "MSFT"
        ],
        [
         "36",
         "390234",
         "2013-04-03",
         "28.75",
         "28.95",
         "28.54",
         "28.56",
         "35062269",
         "MSFT"
        ],
        [
         "37",
         "390235",
         "2013-04-04",
         "28.39",
         "28.61",
         "28.27",
         "28.595",
         "45262208",
         "MSFT"
        ],
        [
         "38",
         "390236",
         "2013-04-05",
         "28.22",
         "28.78",
         "28.11",
         "28.7",
         "50927261",
         "MSFT"
        ],
        [
         "39",
         "390237",
         "2013-04-08",
         "28.73",
         "28.73",
         "28.47",
         "28.59",
         "34759424",
         "MSFT"
        ],
        [
         "40",
         "390238",
         "2013-04-09",
         "28.73",
         "29.815",
         "28.68",
         "29.61",
         "77733607",
         "MSFT"
        ],
        [
         "41",
         "390239",
         "2013-04-10",
         "29.57",
         "30.32",
         "29.52",
         "30.28",
         "71024236",
         "MSFT"
        ],
        [
         "42",
         "390240",
         "2013-04-11",
         "29.1",
         "29.2",
         "28.73",
         "28.935",
         "130903838",
         "MSFT"
        ],
        [
         "43",
         "390241",
         "2013-04-12",
         "28.85",
         "29.02",
         "28.66",
         "28.79",
         "62882640",
         "MSFT"
        ],
        [
         "44",
         "390242",
         "2013-04-15",
         "28.65",
         "28.98",
         "28.51",
         "28.69",
         "56332862",
         "MSFT"
        ],
        [
         "45",
         "390243",
         "2013-04-16",
         "28.9",
         "29.14",
         "28.695",
         "28.97",
         "52795256",
         "MSFT"
        ],
        [
         "46",
         "390244",
         "2013-04-17",
         "28.85",
         "29.04",
         "28.6",
         "28.825",
         "52840621",
         "MSFT"
        ],
        [
         "47",
         "390245",
         "2013-04-18",
         "28.95",
         "28.98",
         "28.5",
         "28.79",
         "56772087",
         "MSFT"
        ],
        [
         "48",
         "390246",
         "2013-04-19",
         "29.62",
         "30.24",
         "29.61",
         "29.765",
         "99790116",
         "MSFT"
        ],
        [
         "49",
         "390247",
         "2013-04-22",
         "30.3",
         "31.18",
         "30.27",
         "30.83",
         "137901279",
         "MSFT"
        ]
       ],
       "shape": {
        "columns": 8,
        "rows": 1259
       }
      },
      "text/html": [
       "<div>\n",
       "<style scoped>\n",
       "    .dataframe tbody tr th:only-of-type {\n",
       "        vertical-align: middle;\n",
       "    }\n",
       "\n",
       "    .dataframe tbody tr th {\n",
       "        vertical-align: top;\n",
       "    }\n",
       "\n",
       "    .dataframe thead th {\n",
       "        text-align: right;\n",
       "    }\n",
       "</style>\n",
       "<table border=\"1\" class=\"dataframe\">\n",
       "  <thead>\n",
       "    <tr style=\"text-align: right;\">\n",
       "      <th></th>\n",
       "      <th>index</th>\n",
       "      <th>date</th>\n",
       "      <th>open</th>\n",
       "      <th>high</th>\n",
       "      <th>low</th>\n",
       "      <th>close</th>\n",
       "      <th>volume</th>\n",
       "      <th>Name</th>\n",
       "    </tr>\n",
       "  </thead>\n",
       "  <tbody>\n",
       "    <tr>\n",
       "      <th>0</th>\n",
       "      <td>390198</td>\n",
       "      <td>2013-02-08</td>\n",
       "      <td>27.35</td>\n",
       "      <td>27.710</td>\n",
       "      <td>27.3100</td>\n",
       "      <td>27.55</td>\n",
       "      <td>33318306</td>\n",
       "      <td>MSFT</td>\n",
       "    </tr>\n",
       "    <tr>\n",
       "      <th>1</th>\n",
       "      <td>390199</td>\n",
       "      <td>2013-02-11</td>\n",
       "      <td>27.65</td>\n",
       "      <td>27.920</td>\n",
       "      <td>27.5000</td>\n",
       "      <td>27.86</td>\n",
       "      <td>32247549</td>\n",
       "      <td>MSFT</td>\n",
       "    </tr>\n",
       "    <tr>\n",
       "      <th>2</th>\n",
       "      <td>390200</td>\n",
       "      <td>2013-02-12</td>\n",
       "      <td>27.88</td>\n",
       "      <td>28.000</td>\n",
       "      <td>27.7500</td>\n",
       "      <td>27.88</td>\n",
       "      <td>35990829</td>\n",
       "      <td>MSFT</td>\n",
       "    </tr>\n",
       "    <tr>\n",
       "      <th>3</th>\n",
       "      <td>390201</td>\n",
       "      <td>2013-02-13</td>\n",
       "      <td>27.93</td>\n",
       "      <td>28.110</td>\n",
       "      <td>27.8800</td>\n",
       "      <td>28.03</td>\n",
       "      <td>41715530</td>\n",
       "      <td>MSFT</td>\n",
       "    </tr>\n",
       "    <tr>\n",
       "      <th>4</th>\n",
       "      <td>390202</td>\n",
       "      <td>2013-02-14</td>\n",
       "      <td>27.92</td>\n",
       "      <td>28.060</td>\n",
       "      <td>27.8700</td>\n",
       "      <td>28.04</td>\n",
       "      <td>32663174</td>\n",
       "      <td>MSFT</td>\n",
       "    </tr>\n",
       "    <tr>\n",
       "      <th>...</th>\n",
       "      <td>...</td>\n",
       "      <td>...</td>\n",
       "      <td>...</td>\n",
       "      <td>...</td>\n",
       "      <td>...</td>\n",
       "      <td>...</td>\n",
       "      <td>...</td>\n",
       "      <td>...</td>\n",
       "    </tr>\n",
       "    <tr>\n",
       "      <th>1254</th>\n",
       "      <td>391452</td>\n",
       "      <td>2018-02-01</td>\n",
       "      <td>94.79</td>\n",
       "      <td>96.070</td>\n",
       "      <td>93.5813</td>\n",
       "      <td>94.26</td>\n",
       "      <td>47227882</td>\n",
       "      <td>MSFT</td>\n",
       "    </tr>\n",
       "    <tr>\n",
       "      <th>1255</th>\n",
       "      <td>391453</td>\n",
       "      <td>2018-02-02</td>\n",
       "      <td>93.64</td>\n",
       "      <td>93.970</td>\n",
       "      <td>91.5000</td>\n",
       "      <td>91.78</td>\n",
       "      <td>47867753</td>\n",
       "      <td>MSFT</td>\n",
       "    </tr>\n",
       "    <tr>\n",
       "      <th>1256</th>\n",
       "      <td>391454</td>\n",
       "      <td>2018-02-05</td>\n",
       "      <td>90.56</td>\n",
       "      <td>93.240</td>\n",
       "      <td>88.0000</td>\n",
       "      <td>88.00</td>\n",
       "      <td>51031465</td>\n",
       "      <td>MSFT</td>\n",
       "    </tr>\n",
       "    <tr>\n",
       "      <th>1257</th>\n",
       "      <td>391455</td>\n",
       "      <td>2018-02-06</td>\n",
       "      <td>86.89</td>\n",
       "      <td>91.475</td>\n",
       "      <td>85.2500</td>\n",
       "      <td>91.33</td>\n",
       "      <td>67998564</td>\n",
       "      <td>MSFT</td>\n",
       "    </tr>\n",
       "    <tr>\n",
       "      <th>1258</th>\n",
       "      <td>391456</td>\n",
       "      <td>2018-02-07</td>\n",
       "      <td>90.49</td>\n",
       "      <td>91.770</td>\n",
       "      <td>89.2000</td>\n",
       "      <td>89.61</td>\n",
       "      <td>41107592</td>\n",
       "      <td>MSFT</td>\n",
       "    </tr>\n",
       "  </tbody>\n",
       "</table>\n",
       "<p>1259 rows × 8 columns</p>\n",
       "</div>"
      ],
      "text/plain": [
       "       index        date   open    high      low  close    volume  Name\n",
       "0     390198  2013-02-08  27.35  27.710  27.3100  27.55  33318306  MSFT\n",
       "1     390199  2013-02-11  27.65  27.920  27.5000  27.86  32247549  MSFT\n",
       "2     390200  2013-02-12  27.88  28.000  27.7500  27.88  35990829  MSFT\n",
       "3     390201  2013-02-13  27.93  28.110  27.8800  28.03  41715530  MSFT\n",
       "4     390202  2013-02-14  27.92  28.060  27.8700  28.04  32663174  MSFT\n",
       "...      ...         ...    ...     ...      ...    ...       ...   ...\n",
       "1254  391452  2018-02-01  94.79  96.070  93.5813  94.26  47227882  MSFT\n",
       "1255  391453  2018-02-02  93.64  93.970  91.5000  91.78  47867753  MSFT\n",
       "1256  391454  2018-02-05  90.56  93.240  88.0000  88.00  51031465  MSFT\n",
       "1257  391455  2018-02-06  86.89  91.475  85.2500  91.33  67998564  MSFT\n",
       "1258  391456  2018-02-07  90.49  91.770  89.2000  89.61  41107592  MSFT\n",
       "\n",
       "[1259 rows x 8 columns]"
      ]
     },
     "execution_count": 2,
     "metadata": {},
     "output_type": "execute_result"
    }
   ],
   "source": [
    "data = pd.read_csv(\"./data/MicrosoftStock.csv\")\n",
    "\n",
    "#Check if data loaded successfully or not.\n",
    "data"
   ]
  },
  {
   "cell_type": "markdown",
   "id": "8164966b",
   "metadata": {},
   "source": [
    "## Data Visualization"
   ]
  },
  {
   "cell_type": "code",
   "execution_count": 3,
   "id": "5a4a6fb2",
   "metadata": {},
   "outputs": [
    {
     "data": {
      "image/png": "[encoded data removed]",
      "text/plain": [
       "<Figure size 1000x800 with 1 Axes>"
      ]
     },
     "metadata": {},
     "output_type": "display_data"
    }
   ],
   "source": [
    "#Initial Data Visualization \n",
    "plt.figure(figsize=(10,8))\n",
    "plt.plot(data['date'], data['open'] , label=\"Open\", color=\"green\")\n",
    "plt.plot(data['date'], data['close'], label=\"Close\", color=\"red\")\n",
    "plt.title(\"Open v/s Close price over time\")\n",
    "plt.legend()\n",
    "plt.show()"
   ]
  },
  {
   "cell_type": "code",
   "execution_count": 4,
   "id": "88e394d1",
   "metadata": {},
   "outputs": [
    {
     "data": {
      "image/png": "[encoded data removed]",
      "text/plain": [
       "<Figure size 1200x600 with 1 Axes>"
      ]
     },
     "metadata": {},
     "output_type": "display_data"
    }
   ],
   "source": [
    "plt.figure(figsize=(12,6))\n",
    "plt.plot(data['date'], data['volume'], label=\"Volume\", color=\"blue\")\n",
    "plt.title(\"Stock Volume over time\")\n",
    "plt.show()"
   ]
  },
  {
   "cell_type": "code",
   "execution_count": 5,
   "id": "2bf82e1a",
   "metadata": {},
   "outputs": [
    {
     "data": {
      "image/png": "[encoded data removed]",
      "text/plain": [
       "<Figure size 1200x600 with 2 Axes>"
      ]
     },
     "metadata": {},
     "output_type": "display_data"
    }
   ],
   "source": [
    "# Drop the non-numeric columns\n",
    "numeric_data = data.select_dtypes(include=[\"int64\",\"float64\"])\n",
    "\n",
    "#Check the correlation between the features\n",
    "plt.figure(figsize=(12,6))\n",
    "sns.heatmap(numeric_data.corr(), annot=True, cmap=\"coolwarm\")\n",
    "plt.title(\"Correlation Between Features\")\n",
    "plt.show()"
   ]
  },
  {
   "cell_type": "markdown",
   "id": "972d8805",
   "metadata": {},
   "source": [
    "- From the heatmap we can get that the Volume feature does not correlate with other features.\n",
    "- This is due to the fact that the Stock Volume does not depend on the Open/Close or Low/High prices of the stock.\n",
    "- Whereas other features like Open Price is related to Close Price"
   ]
  },
  {
   "cell_type": "code",
   "execution_count": 6,
   "id": "6fdd55dc",
   "metadata": {},
   "outputs": [],
   "source": [
    "# Convert the Data into datetime to create a datetime filter\n",
    "\n",
    "data['date'] = pd.to_datetime(data['date'])\n",
    "\n",
    "prediction = data.loc[\n",
    "    (data['date'] > datetime(2013,1,1)) &\n",
    "    (data['date'] < datetime(2018,1,1))\n",
    "]"
   ]
  },
  {
   "cell_type": "markdown",
   "id": "de750019",
   "metadata": {},
   "source": [
    "- Plot a graph to see if datetime is successfully implemented or not."
   ]
  },
  {
   "cell_type": "code",
   "execution_count": 7,
   "id": "e8091498",
   "metadata": {},
   "outputs": [
    {
     "data": {
      "text/plain": [
       "[]"
      ]
     },
     "execution_count": 7,
     "metadata": {},
     "output_type": "execute_result"
    },
    {
     "data": {
      "image/png": "[encoded data removed]",
      "text/plain": [
       "<Figure size 1200x600 with 1 Axes>"
      ]
     },
     "metadata": {},
     "output_type": "display_data"
    }
   ],
   "source": [
    "plt.figure(figsize=(12,6))\n",
    "plt.plot(data['date'], data['close'], label=\"Open\", color=\"blue\")\n",
    "plt.xlabel(\"Date\")\n",
    "plt.ylabel(\"Close\")\n",
    "plt.title(\"Price over time\")\n",
    "plt.plot()\n"
   ]
  },
  {
   "cell_type": "markdown",
   "id": "6adaa84b",
   "metadata": {},
   "source": [
    "## EDA"
   ]
  },
  {
   "cell_type": "markdown",
   "id": "cd729d34",
   "metadata": {},
   "source": [
    "- #### Check for Null Values"
   ]
  },
  {
   "cell_type": "code",
   "execution_count": 8,
   "id": "8c118a7c",
   "metadata": {},
   "outputs": [
    {
     "name": "stdout",
     "output_type": "stream",
     "text": [
      "Null Values Check:-\n",
      "index     0\n",
      "date      0\n",
      "open      0\n",
      "high      0\n",
      "low       0\n",
      "close     0\n",
      "volume    0\n",
      "Name      0\n",
      "dtype: int64\n"
     ]
    }
   ],
   "source": [
    "df = data.copy()\n",
    "print(f\"Null Values Check:-\\n{df.isnull().sum()}\")"
   ]
  },
  {
   "cell_type": "markdown",
   "id": "03adc88a",
   "metadata": {},
   "source": [
    "- #### Candlestick Pattern"
   ]
  },
  {
   "cell_type": "code",
   "execution_count": 9,
   "id": "d9b745d8",
   "metadata": {},
   "outputs": [
    {
     "data": {
      "application/vnd.plotly.v1+json": {
       "config": {
        "plotlyServerURL": "https://plot.ly"
       },
       "data": [
        {
         "close": {
          "bdata": "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",
          "dtype": "f8"
         },
         "decreasing": {
          "line": {
           "color": "red"
          }
         },
         "high": {
          "bdata": "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",
          "dtype": "f8"
         },
         "increasing": {
          "line": {
           "color": "green"
          }
         },
         "low": {
          "bdata": "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",
          "dtype": "f8"
         },
         "open": {
          "bdata": "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",
          "dtype": "f8"
         },
         "type": "candlestick",
         "x": [
          "2013-02-08T00:00:00",
          "2013-02-11T00:00:00",
          "2013-02-12T00:00:00",
          "2013-02-13T00:00:00",
          "2013-02-14T00:00:00",
          "2013-02-15T00:00:00",
          "2013-02-19T00:00:00",
          "2013-02-20T00:00:00",
          "2013-02-21T00:00:00",
          "2013-02-22T00:00:00",
          "2013-02-25T00:00:00",
          "2013-02-26T00:00:00",
          "2013-02-27T00:00:00",
          "2013-02-28T00:00:00",
          "2013-03-01T00:00:00",
          "2013-03-04T00:00:00",
          "2013-03-05T00:00:00",
          "2013-03-06T00:00:00",
          "2013-03-07T00:00:00",
          "2013-03-08T00:00:00",
          "2013-03-11T00:00:00",
          "2013-03-12T00:00:00",
          "2013-03-13T00:00:00",
          "2013-03-14T00:00:00",
          "2013-03-15T00:00:00",
          "2013-03-18T00:00:00",
          "2013-03-19T00:00:00",
          "2013-03-20T00:00:00",
          "2013-03-21T00:00:00",
          "2013-03-22T00:00:00",
          "2013-03-25T00:00:00",
          "2013-03-26T00:00:00",
          "2013-03-27T00:00:00",
          "2013-03-28T00:00:00",
          "2013-04-01T00:00:00",
          "2013-04-02T00:00:00",
          "2013-04-03T00:00:00",
          "2013-04-04T00:00:00",
          "2013-04-05T00:00:00",
          "2013-04-08T00:00:00",
          "2013-04-09T00:00:00",
          "2013-04-10T00:00:00",
          "2013-04-11T00:00:00",
          "2013-04-12T00:00:00",
          "2013-04-15T00:00:00",
          "2013-04-16T00:00:00",
          "2013-04-17T00:00:00",
          "2013-04-18T00:00:00",
          "2013-04-19T00:00:00",
          "2013-04-22T00:00:00",
          "2013-04-23T00:00:00",
          "2013-04-24T00:00:00",
          "2013-04-25T00:00:00",
          "2013-04-26T00:00:00",
          "2013-04-29T00:00:00",
          "2013-04-30T00:00:00",
          "2013-05-01T00:00:00",
          "2013-05-02T00:00:00",
          "2013-05-03T00:00:00",
          "2013-05-06T00:00:00",
          "2013-05-07T00:00:00",
          "2013-05-08T00:00:00",
          "2013-05-09T00:00:00",
          "2013-05-10T00:00:00",
          "2013-05-13T00:00:00",
          "2013-05-14T00:00:00",
          "2013-05-15T00:00:00",
          "2013-05-16T00:00:00",
          "2013-05-17T00:00:00",
          "2013-05-20T00:00:00",
          "2013-05-21T00:00:00",
          "2013-05-22T00:00:00",
          "2013-05-23T00:00:00",
          "2013-05-24T00:00:00",
          "2013-05-28T00:00:00",
          "2013-05-29T00:00:00",
          "2013-05-30T00:00:00",
          "2013-05-31T00:00:00",
          "2013-06-03T00:00:00",
          "2013-06-04T00:00:00",
          "2013-06-05T00:00:00",
          "2013-06-06T00:00:00",
          "2013-06-07T00:00:00",
          "2013-06-10T00:00:00",
          "2013-06-11T00:00:00",
          "2013-06-12T00:00:00",
          "2013-06-13T00:00:00",
          "2013-06-14T00:00:00",
          "2013-06-17T00:00:00",
          "2013-06-18T00:00:00",
          "2013-06-19T00:00:00",
          "2013-06-20T00:00:00",
          "2013-06-21T00:00:00",
          "2013-06-24T00:00:00",
          "2013-06-25T00:00:00",
          "2013-06-26T00:00:00",
          "2013-06-27T00:00:00",
          "2013-06-28T00:00:00",
          "2013-07-01T00:00:00",
          "2013-07-02T00:00:00",
          "2013-07-03T00:00:00",
          "2013-07-05T00:00:00",
          "2013-07-08T00:00:00",
          "2013-07-09T00:00:00",
          "2013-07-10T00:00:00",
          "2013-07-11T00:00:00",
          "2013-07-12T00:00:00",
          "2013-07-15T00:00:00",
          "2013-07-16T00:00:00",
          "2013-07-17T00:00:00",
          "2013-07-18T00:00:00",
          "2013-07-19T00:00:00",
          "2013-07-22T00:00:00",
          "2013-07-23T00:00:00",
          "2013-07-24T00:00:00",
          "2013-07-25T00:00:00",
          "2013-07-26T00:00:00",
          "2013-07-29T00:00:00",
          "2013-07-30T00:00:00",
          "2013-07-31T00:00:00",
          "2013-08-01T00:00:00",
          "2013-08-02T00:00:00",
          "2013-08-05T00:00:00",
          "2013-08-06T00:00:00",
          "2013-08-07T00:00:00",
          "2013-08-08T00:00:00",
          "2013-08-09T00:00:00",
          "2013-08-12T00:00:00",
          "2013-08-13T00:00:00",
          "2013-08-14T00:00:00",
          "2013-08-15T00:00:00",
          "2013-08-16T00:00:00",
          "2013-08-19T00:00:00",
          "2013-08-20T00:00:00",
          "2013-08-21T00:00:00",
          "2013-08-22T00:00:00",
          "2013-08-23T00:00:00",
          "2013-08-26T00:00:00",
          "2013-08-27T00:00:00",
          "2013-08-28T00:00:00",
          "2013-08-29T00:00:00",
          "2013-08-30T00:00:00",
          "2013-09-03T00:00:00",
          "2013-09-04T00:00:00",
          "2013-09-05T00:00:00",
          "2013-09-06T00:00:00",
          "2013-09-09T00:00:00",
          "2013-09-10T00:00:00",
          "2013-09-11T00:00:00",
          "2013-09-12T00:00:00",
          "2013-09-13T00:00:00",
          "2013-09-16T00:00:00",
          "2013-09-17T00:00:00",
          "2013-09-18T00:00:00",
          "2013-09-19T00:00:00",
          "2013-09-20T00:00:00",
          "2013-09-23T00:00:00",
          "2013-09-24T00:00:00",
          "2013-09-25T00:00:00",
          "2013-09-26T00:00:00",
          "2013-09-27T00:00:00",
          "2013-09-30T00:00:00",
          "2013-10-01T00:00:00",
          "2013-10-02T00:00:00",
          "2013-10-03T00:00:00",
          "2013-10-04T00:00:00",
          "2013-10-07T00:00:00",
          "2013-10-08T00:00:00",
          "2013-10-09T00:00:00",
          "2013-10-10T00:00:00",
          "2013-10-11T00:00:00",
          "2013-10-14T00:00:00",
          "2013-10-15T00:00:00",
          "2013-10-16T00:00:00",
          "2013-10-17T00:00:00",
          "2013-10-18T00:00:00",
          "2013-10-21T00:00:00",
          "2013-10-22T00:00:00",
          "2013-10-23T00:00:00",
          "2013-10-24T00:00:00",
          "2013-10-25T00:00:00",
          "2013-10-28T00:00:00",
          "2013-10-29T00:00:00",
          "2013-10-30T00:00:00",
          "2013-10-31T00:00:00",
          "2013-11-01T00:00:00",
          "2013-11-04T00:00:00",
          "2013-11-05T00:00:00",
          "2013-11-06T00:00:00",
          "2013-11-07T00:00:00",
          "2013-11-08T00:00:00",
          "2013-11-11T00:00:00",
          "2013-11-12T00:00:00",
          "2013-11-13T00:00:00",
          "2013-11-14T00:00:00",
          "2013-11-15T00:00:00",
          "2013-11-18T00:00:00",
          "2013-11-19T00:00:00",
          "2013-11-20T00:00:00",
          "2013-11-21T00:00:00",
          "2013-11-22T00:00:00",
          "2013-11-25T00:00:00",
          "2013-11-26T00:00:00",
          "2013-11-27T00:00:00",
          "2013-11-29T00:00:00",
          "2013-12-02T00:00:00",
          "2013-12-03T00:00:00",
          "2013-12-04T00:00:00",
          "2013-12-05T00:00:00",
          "2013-12-06T00:00:00",
          "2013-12-09T00:00:00",
          "2013-12-10T00:00:00",
          "2013-12-11T00:00:00",
          "2013-12-12T00:00:00",
          "2013-12-13T00:00:00",
          "2013-12-16T00:00:00",
          "2013-12-17T00:00:00",
          "2013-12-18T00:00:00",
          "2013-12-19T00:00:00",
          "2013-12-20T00:00:00",
          "2013-12-23T00:00:00",
          "2013-12-24T00:00:00",
          "2013-12-26T00:00:00",
          "2013-12-27T00:00:00",
          "2013-12-30T00:00:00",
          "2013-12-31T00:00:00",
          "2014-01-02T00:00:00",
          "2014-01-03T00:00:00",
          "2014-01-06T00:00:00",
          "2014-01-07T00:00:00",
          "2014-01-08T00:00:00",
          "2014-01-09T00:00:00",
          "2014-01-10T00:00:00",
          "2014-01-13T00:00:00",
          "2014-01-14T00:00:00",
          "2014-01-15T00:00:00",
          "2014-01-16T00:00:00",
          "2014-01-17T00:00:00",
          "2014-01-21T00:00:00",
          "2014-01-22T00:00:00",
          "2014-01-23T00:00:00",
          "2014-01-24T00:00:00",
          "2014-01-27T00:00:00",
          "2014-01-28T00:00:00",
          "2014-01-29T00:00:00",
          "2014-01-30T00:00:00",
          "2014-01-31T00:00:00",
          "2014-02-03T00:00:00",
          "2014-02-04T00:00:00",
          "2014-02-05T00:00:00",
          "2014-02-06T00:00:00",
          "2014-02-07T00:00:00",
          "2014-02-10T00:00:00",
          "2014-02-11T00:00:00",
          "2014-02-12T00:00:00",
          "2014-02-13T00:00:00",
          "2014-02-14T00:00:00",
          "2014-02-18T00:00:00",
          "2014-02-19T00:00:00",
          "2014-02-20T00:00:00",
          "2014-02-21T00:00:00",
          "2014-02-24T00:00:00",
          "2014-02-25T00:00:00",
          "2014-02-26T00:00:00",
          "2014-02-27T00:00:00",
          "2014-02-28T00:00:00",
          "2014-03-03T00:00:00",
          "2014-03-04T00:00:00",
          "2014-03-05T00:00:00",
          "2014-03-06T00:00:00",
          "2014-03-07T00:00:00",
          "2014-03-10T00:00:00",
          "2014-03-11T00:00:00",
          "2014-03-12T00:00:00",
          "2014-03-13T00:00:00",
          "2014-03-14T00:00:00",
          "2014-03-17T00:00:00",
          "2014-03-18T00:00:00",
          "2014-03-19T00:00:00",
          "2014-03-20T00:00:00",
          "2014-03-21T00:00:00",
          "2014-03-24T00:00:00",
          "2014-03-25T00:00:00",
          "2014-03-26T00:00:00",
          "2014-03-27T00:00:00",
          "2014-03-28T00:00:00",
          "2014-03-31T00:00:00",
          "2014-04-01T00:00:00",
          "2014-04-02T00:00:00",
          "2014-04-03T00:00:00",
          "2014-04-04T00:00:00",
          "2014-04-07T00:00:00",
          "2014-04-08T00:00:00",
          "2014-04-09T00:00:00",
          "2014-04-10T00:00:00",
          "2014-04-11T00:00:00",
          "2014-04-14T00:00:00",
          "2014-04-15T00:00:00",
          "2014-04-16T00:00:00",
          "2014-04-17T00:00:00",
          "2014-04-21T00:00:00",
          "2014-04-22T00:00:00",
          "2014-04-23T00:00:00",
          "2014-04-24T00:00:00",
          "2014-04-25T00:00:00",
          "2014-04-28T00:00:00",
          "2014-04-29T00:00:00",
          "2014-04-30T00:00:00",
          "2014-05-01T00:00:00",
          "2014-05-02T00:00:00",
          "2014-05-05T00:00:00",
          "2014-05-06T00:00:00",
          "2014-05-07T00:00:00",
          "2014-05-08T00:00:00",
          "2014-05-09T00:00:00",
          "2014-05-12T00:00:00",
          "2014-05-13T00:00:00",
          "2014-05-14T00:00:00",
          "2014-05-15T00:00:00",
          "2014-05-16T00:00:00",
          "2014-05-19T00:00:00",
          "2014-05-20T00:00:00",
          "2014-05-21T00:00:00",
          "2014-05-22T00:00:00",
          "2014-05-23T00:00:00",
          "2014-05-27T00:00:00",
          "2014-05-28T00:00:00",
          "2014-05-29T00:00:00",
          "2014-05-30T00:00:00",
          "2014-06-02T00:00:00",
          "2014-06-03T00:00:00",
          "2014-06-04T00:00:00",
          "2014-06-05T00:00:00",
          "2014-06-06T00:00:00",
          "2014-06-09T00:00:00",
          "2014-06-10T00:00:00",
          "2014-06-11T00:00:00",
          "2014-06-12T00:00:00",
          "2014-06-13T00:00:00",
          "2014-06-16T00:00:00",
          "2014-06-17T00:00:00",
          "2014-06-18T00:00:00",
          "2014-06-19T00:00:00",
          "2014-06-20T00:00:00",
          "2014-06-23T00:00:00",
          "2014-06-24T00:00:00",
          "2014-06-25T00:00:00",
          "2014-06-26T00:00:00",
          "2014-06-27T00:00:00",
          "2014-06-30T00:00:00",
          "2014-07-01T00:00:00",
          "2014-07-02T00:00:00",
          "2014-07-03T00:00:00",
          "2014-07-07T00:00:00",
          "2014-07-08T00:00:00",
          "2014-07-09T00:00:00",
          "2014-07-10T00:00:00",
          "2014-07-11T00:00:00",
          "2014-07-14T00:00:00",
          "2014-07-15T00:00:00",
          "2014-07-16T00:00:00",
          "2014-07-17T00:00:00",
          "2014-07-18T00:00:00",
          "2014-07-21T00:00:00",
          "2014-07-22T00:00:00",
          "2014-07-23T00:00:00",
          "2014-07-24T00:00:00",
          "2014-07-25T00:00:00",
          "2014-07-28T00:00:00",
          "2014-07-29T00:00:00",
          "2014-07-30T00:00:00",
          "2014-07-31T00:00:00",
          "2014-08-01T00:00:00",
          "2014-08-04T00:00:00",
          "2014-08-05T00:00:00",
          "2014-08-06T00:00:00",
          "2014-08-07T00:00:00",
          "2014-08-08T00:00:00",
          "2014-08-11T00:00:00",
          "2014-08-12T00:00:00",
          "2014-08-13T00:00:00",
          "2014-08-14T00:00:00",
          "2014-08-15T00:00:00",
          "2014-08-18T00:00:00",
          "2014-08-19T00:00:00",
          "2014-08-20T00:00:00",
          "2014-08-21T00:00:00",
          "2014-08-22T00:00:00",
          "2014-08-25T00:00:00",
          "2014-08-26T00:00:00",
          "2014-08-27T00:00:00",
          "2014-08-28T00:00:00",
          "2014-08-29T00:00:00",
          "2014-09-02T00:00:00",
          "2014-09-03T00:00:00",
          "2014-09-04T00:00:00",
          "2014-09-05T00:00:00",
          "2014-09-08T00:00:00",
          "2014-09-09T00:00:00",
          "2014-09-10T00:00:00",
          "2014-09-11T00:00:00",
          "2014-09-12T00:00:00",
          "2014-09-15T00:00:00",
          "2014-09-16T00:00:00",
          "2014-09-17T00:00:00",
          "2014-09-18T00:00:00",
          "2014-09-19T00:00:00",
          "2014-09-22T00:00:00",
          "2014-09-23T00:00:00",
          "2014-09-24T00:00:00",
          "2014-09-25T00:00:00",
          "2014-09-26T00:00:00",
          "2014-09-29T00:00:00",
          "2014-09-30T00:00:00",
          "2014-10-01T00:00:00",
          "2014-10-02T00:00:00",
          "2014-10-03T00:00:00",
          "2014-10-06T00:00:00",
          "2014-10-07T00:00:00",
          "2014-10-08T00:00:00",
          "2014-10-09T00:00:00",
          "2014-10-10T00:00:00",
          "2014-10-13T00:00:00",
          "2014-10-14T00:00:00",
          "2014-10-15T00:00:00",
          "2014-10-16T00:00:00",
          "2014-10-17T00:00:00",
          "2014-10-20T00:00:00",
          "2014-10-21T00:00:00",
          "2014-10-22T00:00:00",
          "2014-10-23T00:00:00",
          "2014-10-24T00:00:00",
          "2014-10-27T00:00:00",
          "2014-10-28T00:00:00",
          "2014-10-29T00:00:00",
          "2014-10-30T00:00:00",
          "2014-10-31T00:00:00",
          "2014-11-03T00:00:00",
          "2014-11-04T00:00:00",
          "2014-11-05T00:00:00",
          "2014-11-06T00:00:00",
          "2014-11-07T00:00:00",
          "2014-11-10T00:00:00",
          "2014-11-11T00:00:00",
          "2014-11-12T00:00:00",
          "2014-11-13T00:00:00",
          "2014-11-14T00:00:00",
          "2014-11-17T00:00:00",
          "2014-11-18T00:00:00",
          "2014-11-19T00:00:00",
          "2014-11-20T00:00:00",
          "2014-11-21T00:00:00",
          "2014-11-24T00:00:00",
          "2014-11-25T00:00:00",
          "2014-11-26T00:00:00",
          "2014-11-28T00:00:00",
          "2014-12-01T00:00:00",
          "2014-12-02T00:00:00",
          "2014-12-03T00:00:00",
          "2014-12-04T00:00:00",
          "2014-12-05T00:00:00",
          "2014-12-08T00:00:00",
          "2014-12-09T00:00:00",
          "2014-12-10T00:00:00",
          "2014-12-11T00:00:00",
          "2014-12-12T00:00:00",
          "2014-12-15T00:00:00",
          "2014-12-16T00:00:00",
          "2014-12-17T00:00:00",
          "2014-12-18T00:00:00",
          "2014-12-19T00:00:00",
          "2014-12-22T00:00:00",
          "2014-12-23T00:00:00",
          "2014-12-24T00:00:00",
          "2014-12-26T00:00:00",
          "2014-12-29T00:00:00",
          "2014-12-30T00:00:00",
          "2014-12-31T00:00:00",
          "2015-01-02T00:00:00",
          "2015-01-05T00:00:00",
          "2015-01-06T00:00:00",
          "2015-01-07T00:00:00",
          "2015-01-08T00:00:00",
          "2015-01-09T00:00:00",
          "2015-01-12T00:00:00",
          "2015-01-13T00:00:00",
          "2015-01-14T00:00:00",
          "2015-01-15T00:00:00",
          "2015-01-16T00:00:00",
          "2015-01-20T00:00:00",
          "2015-01-21T00:00:00",
          "2015-01-22T00:00:00",
          "2015-01-23T00:00:00",
          "2015-01-26T00:00:00",
          "2015-01-27T00:00:00",
          "2015-01-28T00:00:00",
          "2015-01-29T00:00:00",
          "2015-01-30T00:00:00",
          "2015-02-02T00:00:00",
          "2015-02-03T00:00:00",
          "2015-02-04T00:00:00",
          "2015-02-05T00:00:00",
          "2015-02-06T00:00:00",
          "2015-02-09T00:00:00",
          "2015-02-10T00:00:00",
          "2015-02-11T00:00:00",
          "2015-02-12T00:00:00",
          "2015-02-13T00:00:00",
          "2015-02-17T00:00:00",
          "2015-02-18T00:00:00",
          "2015-02-19T00:00:00",
          "2015-02-20T00:00:00",
          "2015-02-23T00:00:00",
          "2015-02-24T00:00:00",
          "2015-02-25T00:00:00",
          "2015-02-26T00:00:00",
          "2015-02-27T00:00:00",
          "2015-03-02T00:00:00",
          "2015-03-03T00:00:00",
          "2015-03-04T00:00:00",
          "2015-03-05T00:00:00",
          "2015-03-06T00:00:00",
          "2015-03-09T00:00:00",
          "2015-03-10T00:00:00",
          "2015-03-11T00:00:00",
          "2015-03-12T00:00:00",
          "2015-03-13T00:00:00",
          "2015-03-16T00:00:00",
          "2015-03-17T00:00:00",
          "2015-03-18T00:00:00",
          "2015-03-19T00:00:00",
          "2015-03-20T00:00:00",
          "2015-03-23T00:00:00",
          "2015-03-24T00:00:00",
          "2015-03-25T00:00:00",
          "2015-03-26T00:00:00",
          "2015-03-27T00:00:00",
          "2015-03-30T00:00:00",
          "2015-03-31T00:00:00",
          "2015-04-01T00:00:00",
          "2015-04-02T00:00:00",
          "2015-04-06T00:00:00",
          "2015-04-07T00:00:00",
          "2015-04-08T00:00:00",
          "2015-04-09T00:00:00",
          "2015-04-10T00:00:00",
          "2015-04-13T00:00:00",
          "2015-04-14T00:00:00",
          "2015-04-15T00:00:00",
          "2015-04-16T00:00:00",
          "2015-04-17T00:00:00",
          "2015-04-20T00:00:00",
          "2015-04-21T00:00:00",
          "2015-04-22T00:00:00",
          "2015-04-23T00:00:00",
          "2015-04-24T00:00:00",
          "2015-04-27T00:00:00",
          "2015-04-28T00:00:00",
          "2015-04-29T00:00:00",
          "2015-04-30T00:00:00",
          "2015-05-01T00:00:00",
          "2015-05-04T00:00:00",
          "2015-05-05T00:00:00",
          "2015-05-06T00:00:00",
          "2015-05-07T00:00:00",
          "2015-05-08T00:00:00",
          "2015-05-11T00:00:00",
          "2015-05-12T00:00:00",
          "2015-05-13T00:00:00",
          "2015-05-14T00:00:00",
          "2015-05-15T00:00:00",
          "2015-05-18T00:00:00",
          "2015-05-19T00:00:00",
          "2015-05-20T00:00:00",
          "2015-05-21T00:00:00",
          "2015-05-22T00:00:00",
          "2015-05-26T00:00:00",
          "2015-05-27T00:00:00",
          "2015-05-28T00:00:00",
          "2015-05-29T00:00:00",
          "2015-06-01T00:00:00",
          "2015-06-02T00:00:00",
          "2015-06-03T00:00:00",
          "2015-06-04T00:00:00",
          "2015-06-05T00:00:00",
          "2015-06-08T00:00:00",
          "2015-06-09T00:00:00",
          "2015-06-10T00:00:00",
          "2015-06-11T00:00:00",
          "2015-06-12T00:00:00",
          "2015-06-15T00:00:00",
          "2015-06-16T00:00:00",
          "2015-06-17T00:00:00",
          "2015-06-18T00:00:00",
          "2015-06-19T00:00:00",
          "2015-06-22T00:00:00",
          "2015-06-23T00:00:00",
          "2015-06-24T00:00:00",
          "2015-06-25T00:00:00",
          "2015-06-26T00:00:00",
          "2015-06-29T00:00:00",
          "2015-06-30T00:00:00",
          "2015-07-01T00:00:00",
          "2015-07-02T00:00:00",
          "2015-07-06T00:00:00",
          "2015-07-07T00:00:00",
          "2015-07-08T00:00:00",
          "2015-07-09T00:00:00",
          "2015-07-10T00:00:00",
          "2015-07-13T00:00:00",
          "2015-07-14T00:00:00",
          "2015-07-15T00:00:00",
          "2015-07-16T00:00:00",
          "2015-07-17T00:00:00",
          "2015-07-20T00:00:00",
          "2015-07-21T00:00:00",
          "2015-07-22T00:00:00",
          "2015-07-23T00:00:00",
          "2015-07-24T00:00:00",
          "2015-07-27T00:00:00",
          "2015-07-28T00:00:00",
          "2015-07-29T00:00:00",
          "2015-07-30T00:00:00",
          "2015-07-31T00:00:00",
          "2015-08-03T00:00:00",
          "2015-08-04T00:00:00",
          "2015-08-05T00:00:00",
          "2015-08-06T00:00:00",
          "2015-08-07T00:00:00",
          "2015-08-10T00:00:00",
          "2015-08-11T00:00:00",
          "2015-08-12T00:00:00",
          "2015-08-13T00:00:00",
          "2015-08-14T00:00:00",
          "2015-08-17T00:00:00",
          "2015-08-18T00:00:00",
          "2015-08-19T00:00:00",
          "2015-08-20T00:00:00",
          "2015-08-21T00:00:00",
          "2015-08-24T00:00:00",
          "2015-08-25T00:00:00",
          "2015-08-26T00:00:00",
          "2015-08-27T00:00:00",
          "2015-08-28T00:00:00",
          "2015-08-31T00:00:00",
          "2015-09-01T00:00:00",
          "2015-09-02T00:00:00",
          "2015-09-03T00:00:00",
          "2015-09-04T00:00:00",
          "2015-09-08T00:00:00",
          "2015-09-09T00:00:00",
          "2015-09-10T00:00:00",
          "2015-09-11T00:00:00",
          "2015-09-14T00:00:00",
          "2015-09-15T00:00:00",
          "2015-09-16T00:00:00",
          "2015-09-17T00:00:00",
          "2015-09-18T00:00:00",
          "2015-09-21T00:00:00",
          "2015-09-22T00:00:00",
          "2015-09-23T00:00:00",
          "2015-09-24T00:00:00",
          "2015-09-25T00:00:00",
          "2015-09-28T00:00:00",
          "2015-09-29T00:00:00",
          "2015-09-30T00:00:00",
          "2015-10-01T00:00:00",
          "2015-10-02T00:00:00",
          "2015-10-05T00:00:00",
          "2015-10-06T00:00:00",
          "2015-10-07T00:00:00",
          "2015-10-08T00:00:00",
          "2015-10-09T00:00:00",
          "2015-10-12T00:00:00",
          "2015-10-13T00:00:00",
          "2015-10-14T00:00:00",
          "2015-10-15T00:00:00",
          "2015-10-16T00:00:00",
          "2015-10-19T00:00:00",
          "2015-10-20T00:00:00",
          "2015-10-21T00:00:00",
          "2015-10-22T00:00:00",
          "2015-10-23T00:00:00",
          "2015-10-26T00:00:00",
          "2015-10-27T00:00:00",
          "2015-10-28T00:00:00",
          "2015-10-29T00:00:00",
          "2015-10-30T00:00:00",
          "2015-11-02T00:00:00",
          "2015-11-03T00:00:00",
          "2015-11-04T00:00:00",
          "2015-11-05T00:00:00",
          "2015-11-06T00:00:00",
          "2015-11-09T00:00:00",
          "2015-11-10T00:00:00",
          "2015-11-11T00:00:00",
          "2015-11-12T00:00:00",
          "2015-11-13T00:00:00",
          "2015-11-16T00:00:00",
          "2015-11-17T00:00:00",
          "2015-11-18T00:00:00",
          "2015-11-19T00:00:00",
          "2015-11-20T00:00:00",
          "2015-11-23T00:00:00",
          "2015-11-24T00:00:00",
          "2015-11-25T00:00:00",
          "2015-11-27T00:00:00",
          "2015-11-30T00:00:00",
          "2015-12-01T00:00:00",
          "2015-12-02T00:00:00",
          "2015-12-03T00:00:00",
          "2015-12-04T00:00:00",
          "2015-12-07T00:00:00",
          "2015-12-08T00:00:00",
          "2015-12-09T00:00:00",
          "2015-12-10T00:00:00",
          "2015-12-11T00:00:00",
          "2015-12-14T00:00:00",
          "2015-12-15T00:00:00",
          "2015-12-16T00:00:00",
          "2015-12-17T00:00:00",
          "2015-12-18T00:00:00",
          "2015-12-21T00:00:00",
          "2015-12-22T00:00:00",
          "2015-12-23T00:00:00",
          "2015-12-24T00:00:00",
          "2015-12-28T00:00:00",
          "2015-12-29T00:00:00",
          "2015-12-30T00:00:00",
          "2015-12-31T00:00:00",
          "2016-01-04T00:00:00",
          "2016-01-05T00:00:00",
          "2016-01-06T00:00:00",
          "2016-01-07T00:00:00",
          "2016-01-08T00:00:00",
          "2016-01-11T00:00:00",
          "2016-01-12T00:00:00",
          "2016-01-13T00:00:00",
          "2016-01-14T00:00:00",
          "2016-01-15T00:00:00",
          "2016-01-19T00:00:00",
          "2016-01-20T00:00:00",
          "2016-01-21T00:00:00",
          "2016-01-22T00:00:00",
          "2016-01-25T00:00:00",
          "2016-01-26T00:00:00",
          "2016-01-27T00:00:00",
          "2016-01-28T00:00:00",
          "2016-01-29T00:00:00",
          "2016-02-01T00:00:00",
          "2016-02-02T00:00:00",
          "2016-02-03T00:00:00",
          "2016-02-04T00:00:00",
          "2016-02-05T00:00:00",
          "2016-02-08T00:00:00",
          "2016-02-09T00:00:00",
          "2016-02-10T00:00:00",
          "2016-02-11T00:00:00",
          "2016-02-12T00:00:00",
          "2016-02-16T00:00:00",
          "2016-02-17T00:00:00",
          "2016-02-18T00:00:00",
          "2016-02-19T00:00:00",
          "2016-02-22T00:00:00",
          "2016-02-23T00:00:00",
          "2016-02-24T00:00:00",
          "2016-02-25T00:00:00",
          "2016-02-26T00:00:00",
          "2016-02-29T00:00:00",
          "2016-03-01T00:00:00",
          "2016-03-02T00:00:00",
          "2016-03-03T00:00:00",
          "2016-03-04T00:00:00",
          "2016-03-07T00:00:00",
          "2016-03-08T00:00:00",
          "2016-03-09T00:00:00",
          "2016-03-10T00:00:00",
          "2016-03-11T00:00:00",
          "2016-03-14T00:00:00",
          "2016-03-15T00:00:00",
          "2016-03-16T00:00:00",
          "2016-03-17T00:00:00",
          "2016-03-18T00:00:00",
          "2016-03-21T00:00:00",
          "2016-03-22T00:00:00",
          "2016-03-23T00:00:00",
          "2016-03-24T00:00:00",
          "2016-03-28T00:00:00",
          "2016-03-29T00:00:00",
          "2016-03-30T00:00:00",
          "2016-03-31T00:00:00",
          "2016-04-01T00:00:00",
          "2016-04-04T00:00:00",
          "2016-04-05T00:00:00",
          "2016-04-06T00:00:00",
          "2016-04-07T00:00:00",
          "2016-04-08T00:00:00",
          "2016-04-11T00:00:00",
          "2016-04-12T00:00:00",
          "2016-04-13T00:00:00",
          "2016-04-14T00:00:00",
          "2016-04-15T00:00:00",
          "2016-04-18T00:00:00",
          "2016-04-19T00:00:00",
          "2016-04-20T00:00:00",
          "2016-04-21T00:00:00",
          "2016-04-22T00:00:00",
          "2016-04-25T00:00:00",
          "2016-04-26T00:00:00",
          "2016-04-27T00:00:00",
          "2016-04-28T00:00:00",
          "2016-04-29T00:00:00",
          "2016-05-02T00:00:00",
          "2016-05-03T00:00:00",
          "2016-05-04T00:00:00",
          "2016-05-05T00:00:00",
          "2016-05-06T00:00:00",
          "2016-05-09T00:00:00",
          "2016-05-10T00:00:00",
          "2016-05-11T00:00:00",
          "2016-05-12T00:00:00",
          "2016-05-13T00:00:00",
          "2016-05-16T00:00:00",
          "2016-05-17T00:00:00",
          "2016-05-18T00:00:00",
          "2016-05-19T00:00:00",
          "2016-05-20T00:00:00",
          "2016-05-23T00:00:00",
          "2016-05-24T00:00:00",
          "2016-05-25T00:00:00",
          "2016-05-26T00:00:00",
          "2016-05-27T00:00:00",
          "2016-05-31T00:00:00",
          "2016-06-01T00:00:00",
          "2016-06-02T00:00:00",
          "2016-06-03T00:00:00",
          "2016-06-06T00:00:00",
          "2016-06-07T00:00:00",
          "2016-06-08T00:00:00",
          "2016-06-09T00:00:00",
          "2016-06-10T00:00:00",
          "2016-06-13T00:00:00",
          "2016-06-14T00:00:00",
          "2016-06-15T00:00:00",
          "2016-06-16T00:00:00",
          "2016-06-17T00:00:00",
          "2016-06-20T00:00:00",
          "2016-06-21T00:00:00",
          "2016-06-22T00:00:00",
          "2016-06-23T00:00:00",
          "2016-06-24T00:00:00",
          "2016-06-27T00:00:00",
          "2016-06-28T00:00:00",
          "2016-06-29T00:00:00",
          "2016-06-30T00:00:00",
          "2016-07-01T00:00:00",
          "2016-07-05T00:00:00",
          "2016-07-06T00:00:00",
          "2016-07-07T00:00:00",
          "2016-07-08T00:00:00",
          "2016-07-11T00:00:00",
          "2016-07-12T00:00:00",
          "2016-07-13T00:00:00",
          "2016-07-14T00:00:00",
          "2016-07-15T00:00:00",
          "2016-07-18T00:00:00",
          "2016-07-19T00:00:00",
          "2016-07-20T00:00:00",
          "2016-07-21T00:00:00",
          "2016-07-22T00:00:00",
          "2016-07-25T00:00:00",
          "2016-07-26T00:00:00",
          "2016-07-27T00:00:00",
          "2016-07-28T00:00:00",
          "2016-07-29T00:00:00",
          "2016-08-01T00:00:00",
          "2016-08-02T00:00:00",
          "2016-08-03T00:00:00",
          "2016-08-04T00:00:00",
          "2016-08-05T00:00:00",
          "2016-08-08T00:00:00",
          "2016-08-09T00:00:00",
          "2016-08-10T00:00:00",
          "2016-08-11T00:00:00",
          "2016-08-12T00:00:00",
          "2016-08-15T00:00:00",
          "2016-08-16T00:00:00",
          "2016-08-17T00:00:00",
          "2016-08-18T00:00:00",
          "2016-08-19T00:00:00",
          "2016-08-22T00:00:00",
          "2016-08-23T00:00:00",
          "2016-08-24T00:00:00",
          "2016-08-25T00:00:00",
          "2016-08-26T00:00:00",
          "2016-08-29T00:00:00",
          "2016-08-30T00:00:00",
          "2016-08-31T00:00:00",
          "2016-09-01T00:00:00",
          "2016-09-02T00:00:00",
          "2016-09-06T00:00:00",
          "2016-09-07T00:00:00",
          "2016-09-08T00:00:00",
          "2016-09-09T00:00:00",
          "2016-09-12T00:00:00",
          "2016-09-13T00:00:00",
          "2016-09-14T00:00:00",
          "2016-09-15T00:00:00",
          "2016-09-16T00:00:00",
          "2016-09-19T00:00:00",
          "2016-09-20T00:00:00",
          "2016-09-21T00:00:00",
          "2016-09-22T00:00:00",
          "2016-09-23T00:00:00",
          "2016-09-26T00:00:00",
          "2016-09-27T00:00:00",
          "2016-09-28T00:00:00",
          "2016-09-29T00:00:00",
          "2016-09-30T00:00:00",
          "2016-10-03T00:00:00",
          "2016-10-04T00:00:00",
          "2016-10-05T00:00:00",
          "2016-10-06T00:00:00",
          "2016-10-07T00:00:00",
          "2016-10-10T00:00:00",
          "2016-10-11T00:00:00",
          "2016-10-12T00:00:00",
          "2016-10-13T00:00:00",
          "2016-10-14T00:00:00",
          "2016-10-17T00:00:00",
          "2016-10-18T00:00:00",
          "2016-10-19T00:00:00",
          "2016-10-20T00:00:00",
          "2016-10-21T00:00:00",
          "2016-10-24T00:00:00",
          "2016-10-25T00:00:00",
          "2016-10-26T00:00:00",
          "2016-10-27T00:00:00",
          "2016-10-28T00:00:00",
          "2016-10-31T00:00:00",
          "2016-11-01T00:00:00",
          "2016-11-02T00:00:00",
          "2016-11-03T00:00:00",
          "2016-11-04T00:00:00",
          "2016-11-07T00:00:00",
          "2016-11-08T00:00:00",
          "2016-11-09T00:00:00",
          "2016-11-10T00:00:00",
          "2016-11-11T00:00:00",
          "2016-11-14T00:00:00",
          "2016-11-15T00:00:00",
          "2016-11-16T00:00:00",
          "2016-11-17T00:00:00",
          "2016-11-18T00:00:00",
          "2016-11-21T00:00:00",
          "2016-11-22T00:00:00",
          "2016-11-23T00:00:00",
          "2016-11-25T00:00:00",
          "2016-11-28T00:00:00",
          "2016-11-29T00:00:00",
          "2016-11-30T00:00:00",
          "2016-12-01T00:00:00",
          "2016-12-02T00:00:00",
          "2016-12-05T00:00:00",
          "2016-12-06T00:00:00",
          "2016-12-07T00:00:00",
          "2016-12-08T00:00:00",
          "2016-12-09T00:00:00",
          "2016-12-12T00:00:00",
          "2016-12-13T00:00:00",
          "2016-12-14T00:00:00",
          "2016-12-15T00:00:00",
          "2016-12-16T00:00:00",
          "2016-12-19T00:00:00",
          "2016-12-20T00:00:00",
          "2016-12-21T00:00:00",
          "2016-12-22T00:00:00",
          "2016-12-23T00:00:00",
          "2016-12-27T00:00:00",
          "2016-12-28T00:00:00",
          "2016-12-29T00:00:00",
          "2016-12-30T00:00:00",
          "2017-01-03T00:00:00",
          "2017-01-04T00:00:00",
          "2017-01-05T00:00:00",
          "2017-01-06T00:00:00",
          "2017-01-09T00:00:00",
          "2017-01-10T00:00:00",
          "2017-01-11T00:00:00",
          "2017-01-12T00:00:00",
          "2017-01-13T00:00:00",
          "2017-01-17T00:00:00",
          "2017-01-18T00:00:00",
          "2017-01-19T00:00:00",
          "2017-01-20T00:00:00",
          "2017-01-23T00:00:00",
          "2017-01-24T00:00:00",
          "2017-01-25T00:00:00",
          "2017-01-26T00:00:00",
          "2017-01-27T00:00:00",
          "2017-01-30T00:00:00",
          "2017-01-31T00:00:00",
          "2017-02-01T00:00:00",
          "2017-02-02T00:00:00",
          "2017-02-03T00:00:00",
          "2017-02-06T00:00:00",
          "2017-02-07T00:00:00",
          "2017-02-08T00:00:00",
          "2017-02-09T00:00:00",
          "2017-02-10T00:00:00",
          "2017-02-13T00:00:00",
          "2017-02-14T00:00:00",
          "2017-02-15T00:00:00",
          "2017-02-16T00:00:00",
          "2017-02-17T00:00:00",
          "2017-02-21T00:00:00",
          "2017-02-22T00:00:00",
          "2017-02-23T00:00:00",
          "2017-02-24T00:00:00",
          "2017-02-27T00:00:00",
          "2017-02-28T00:00:00",
          "2017-03-01T00:00:00",
          "2017-03-02T00:00:00",
          "2017-03-03T00:00:00",
          "2017-03-06T00:00:00",
          "2017-03-07T00:00:00",
          "2017-03-08T00:00:00",
          "2017-03-09T00:00:00",
          "2017-03-10T00:00:00",
          "2017-03-13T00:00:00",
          "2017-03-14T00:00:00",
          "2017-03-15T00:00:00",
          "2017-03-16T00:00:00",
          "2017-03-17T00:00:00",
          "2017-03-20T00:00:00",
          "2017-03-21T00:00:00",
          "2017-03-22T00:00:00",
          "2017-03-23T00:00:00",
          "2017-03-24T00:00:00",
          "2017-03-27T00:00:00",
          "2017-03-28T00:00:00",
          "2017-03-29T00:00:00",
          "2017-03-30T00:00:00",
          "2017-03-31T00:00:00",
          "2017-04-03T00:00:00",
          "2017-04-04T00:00:00",
          "2017-04-05T00:00:00",
          "2017-04-06T00:00:00",
          "2017-04-07T00:00:00",
          "2017-04-10T00:00:00",
          "2017-04-11T00:00:00",
          "2017-04-12T00:00:00",
          "2017-04-13T00:00:00",
          "2017-04-17T00:00:00",
          "2017-04-18T00:00:00",
          "2017-04-19T00:00:00",
          "2017-04-20T00:00:00",
          "2017-04-21T00:00:00",
          "2017-04-24T00:00:00",
          "2017-04-25T00:00:00",
          "2017-04-26T00:00:00",
          "2017-04-27T00:00:00",
          "2017-04-28T00:00:00",
          "2017-05-01T00:00:00",
          "2017-05-02T00:00:00",
          "2017-05-03T00:00:00",
          "2017-05-04T00:00:00",
          "2017-05-05T00:00:00",
          "2017-05-08T00:00:00",
          "2017-05-09T00:00:00",
          "2017-05-10T00:00:00",
          "2017-05-11T00:00:00",
          "2017-05-12T00:00:00",
          "2017-05-15T00:00:00",
          "2017-05-16T00:00:00",
          "2017-05-17T00:00:00",
          "2017-05-18T00:00:00",
          "2017-05-19T00:00:00",
          "2017-05-22T00:00:00",
          "2017-05-23T00:00:00",
          "2017-05-24T00:00:00",
          "2017-05-25T00:00:00",
          "2017-05-26T00:00:00",
          "2017-05-30T00:00:00",
          "2017-05-31T00:00:00",
          "2017-06-01T00:00:00",
          "2017-06-02T00:00:00",
          "2017-06-05T00:00:00",
          "2017-06-06T00:00:00",
          "2017-06-07T00:00:00",
          "2017-06-08T00:00:00",
          "2017-06-09T00:00:00",
          "2017-06-12T00:00:00",
          "2017-06-13T00:00:00",
          "2017-06-14T00:00:00",
          "2017-06-15T00:00:00",
          "2017-06-16T00:00:00",
          "2017-06-19T00:00:00",
          "2017-06-20T00:00:00",
          "2017-06-21T00:00:00",
          "2017-06-22T00:00:00",
          "2017-06-23T00:00:00",
          "2017-06-26T00:00:00",
          "2017-06-27T00:00:00",
          "2017-06-28T00:00:00",
          "2017-06-29T00:00:00",
          "2017-06-30T00:00:00",
          "2017-07-03T00:00:00",
          "2017-07-05T00:00:00",
          "2017-07-06T00:00:00",
          "2017-07-07T00:00:00",
          "2017-07-10T00:00:00",
          "2017-07-11T00:00:00",
          "2017-07-12T00:00:00",
          "2017-07-13T00:00:00",
          "2017-07-14T00:00:00",
          "2017-07-17T00:00:00",
          "2017-07-18T00:00:00",
          "2017-07-19T00:00:00",
          "2017-07-20T00:00:00",
          "2017-07-21T00:00:00",
          "2017-07-24T00:00:00",
          "2017-07-25T00:00:00",
          "2017-07-26T00:00:00",
          "2017-07-27T00:00:00",
          "2017-07-28T00:00:00",
          "2017-07-31T00:00:00",
          "2017-08-01T00:00:00",
          "2017-08-02T00:00:00",
          "2017-08-03T00:00:00",
          "2017-08-04T00:00:00",
          "2017-08-07T00:00:00",
          "2017-08-08T00:00:00",
          "2017-08-09T00:00:00",
          "2017-08-10T00:00:00",
          "2017-08-11T00:00:00",
          "2017-08-14T00:00:00",
          "2017-08-15T00:00:00",
          "2017-08-16T00:00:00",
          "2017-08-17T00:00:00",
          "2017-08-18T00:00:00",
          "2017-08-21T00:00:00",
          "2017-08-22T00:00:00",
          "2017-08-23T00:00:00",
          "2017-08-24T00:00:00",
          "2017-08-25T00:00:00",
          "2017-08-28T00:00:00",
          "2017-08-29T00:00:00",
          "2017-08-30T00:00:00",
          "2017-08-31T00:00:00",
          "2017-09-01T00:00:00",
          "2017-09-05T00:00:00",
          "2017-09-06T00:00:00",
          "2017-09-07T00:00:00",
          "2017-09-08T00:00:00",
          "2017-09-11T00:00:00",
          "2017-09-12T00:00:00",
          "2017-09-13T00:00:00",
          "2017-09-14T00:00:00",
          "2017-09-15T00:00:00",
          "2017-09-18T00:00:00",
          "2017-09-19T00:00:00",
          "2017-09-20T00:00:00",
          "2017-09-21T00:00:00",
          "2017-09-22T00:00:00",
          "2017-09-25T00:00:00",
          "2017-09-26T00:00:00",
          "2017-09-27T00:00:00",
          "2017-09-28T00:00:00",
          "2017-09-29T00:00:00",
          "2017-10-02T00:00:00",
          "2017-10-03T00:00:00",
          "2017-10-04T00:00:00",
          "2017-10-05T00:00:00",
          "2017-10-06T00:00:00",
          "2017-10-09T00:00:00",
          "2017-10-10T00:00:00",
          "2017-10-11T00:00:00",
          "2017-10-12T00:00:00",
          "2017-10-13T00:00:00",
          "2017-10-16T00:00:00",
          "2017-10-17T00:00:00",
          "2017-10-18T00:00:00",
          "2017-10-19T00:00:00",
          "2017-10-20T00:00:00",
          "2017-10-23T00:00:00",
          "2017-10-24T00:00:00",
          "2017-10-25T00:00:00",
          "2017-10-26T00:00:00",
          "2017-10-27T00:00:00",
          "2017-10-30T00:00:00",
          "2017-10-31T00:00:00",
          "2017-11-01T00:00:00",
          "2017-11-02T00:00:00",
          "2017-11-03T00:00:00",
          "2017-11-06T00:00:00",
          "2017-11-07T00:00:00",
          "2017-11-08T00:00:00",
          "2017-11-09T00:00:00",
          "2017-11-10T00:00:00",
          "2017-11-13T00:00:00",
          "2017-11-14T00:00:00",
          "2017-11-15T00:00:00",
          "2017-11-16T00:00:00",
          "2017-11-17T00:00:00",
          "2017-11-20T00:00:00",
          "2017-11-21T00:00:00",
          "2017-11-22T00:00:00",
          "2017-11-24T00:00:00",
          "2017-11-27T00:00:00",
          "2017-11-28T00:00:00",
          "2017-11-29T00:00:00",
          "2017-11-30T00:00:00",
          "2017-12-01T00:00:00",
          "2017-12-04T00:00:00",
          "2017-12-05T00:00:00",
          "2017-12-06T00:00:00",
          "2017-12-07T00:00:00",
          "2017-12-08T00:00:00",
          "2017-12-11T00:00:00",
          "2017-12-12T00:00:00",
          "2017-12-13T00:00:00",
          "2017-12-14T00:00:00",
          "2017-12-15T00:00:00",
          "2017-12-18T00:00:00",
          "2017-12-19T00:00:00",
          "2017-12-20T00:00:00",
          "2017-12-21T00:00:00",
          "2017-12-22T00:00:00",
          "2017-12-26T00:00:00",
          "2017-12-27T00:00:00",
          "2017-12-28T00:00:00",
          "2017-12-29T00:00:00",
          "2018-01-02T00:00:00",
          "2018-01-03T00:00:00",
          "2018-01-04T00:00:00",
          "2018-01-05T00:00:00",
          "2018-01-08T00:00:00",
          "2018-01-09T00:00:00",
          "2018-01-10T00:00:00",
          "2018-01-11T00:00:00",
          "2018-01-12T00:00:00",
          "2018-01-16T00:00:00",
          "2018-01-17T00:00:00",
          "2018-01-18T00:00:00",
          "2018-01-19T00:00:00",
          "2018-01-22T00:00:00",
          "2018-01-23T00:00:00",
          "2018-01-24T00:00:00",
          "2018-01-25T00:00:00",
          "2018-01-26T00:00:00",
          "2018-01-29T00:00:00",
          "2018-01-30T00:00:00",
          "2018-01-31T00:00:00",
          "2018-02-01T00:00:00",
          "2018-02-02T00:00:00",
          "2018-02-05T00:00:00",
          "2018-02-06T00:00:00",
          "2018-02-07T00:00:00"
         ]
        }
       ],
       "layout": {
        "template": {
         "data": {
          "bar": [
           {
            "error_x": {
             "color": "#2a3f5f"
            },
            "error_y": {
             "color": "#2a3f5f"
            },
            "marker": {
             "line": {
              "color": "#E5ECF6",
              "width": 0.5
             },
             "pattern": {
              "fillmode": "overlay",
              "size": 10,
              "solidity": 0.2
             }
            },
            "type": "bar"
           }
          ],
          "barpolar": [
           {
            "marker": {
             "line": {
              "color": "#E5ECF6",
              "width": 0.5
             },
             "pattern": {
              "fillmode": "overlay",
              "size": 10,
              "solidity": 0.2
             }
            },
            "type": "barpolar"
           }
          ],
          "carpet": [
           {
            "aaxis": {
             "endlinecolor": "#2a3f5f",
             "gridcolor": "white",
             "linecolor": "white",
             "minorgridcolor": "white",
             "startlinecolor": "#2a3f5f"
            },
            "baxis": {
             "endlinecolor": "#2a3f5f",
             "gridcolor": "white",
             "linecolor": "white",
             "minorgridcolor": "white",
             "startlinecolor": "#2a3f5f"
            },
            "type": "carpet"
           }
          ],
          "choropleth": [
           {
            "colorbar": {
             "outlinewidth": 0,
             "ticks": ""
            },
            "type": "choropleth"
           }
          ],
          "contour": [
           {
            "colorbar": {
             "outlinewidth": 0,
             "ticks": ""
            },
            "colorscale": [
             [
              0,
              "#0d0887"
             ],
             [
              0.1111111111111111,
              "#46039f"
             ],
             [
              0.2222222222222222,
              "#7201a8"
             ],
             [
              0.3333333333333333,
              "#9c179e"
             ],
             [
              0.4444444444444444,
              "#bd3786"
             ],
             [
              0.5555555555555556,
              "#d8576b"
             ],
             [
              0.6666666666666666,
              "#ed7953"
             ],
             [
              0.7777777777777778,
              "#fb9f3a"
             ],
             [
              0.8888888888888888,
              "#fdca26"
             ],
             [
              1,
              "#f0f921"
             ]
            ],
            "type": "contour"
           }
          ],
          "contourcarpet": [
           {
            "colorbar": {
             "outlinewidth": 0,
             "ticks": ""
            },
            "type": "contourcarpet"
           }
          ],
          "heatmap": [
           {
            "colorbar": {
             "outlinewidth": 0,
             "ticks": ""
            },
            "colorscale": [
             [
              0,
              "#0d0887"
             ],
             [
              0.1111111111111111,
              "#46039f"
             ],
             [
              0.2222222222222222,
              "#7201a8"
             ],
             [
              0.3333333333333333,
              "#9c179e"
             ],
             [
              0.4444444444444444,
              "#bd3786"
             ],
             [
              0.5555555555555556,
              "#d8576b"
             ],
             [
              0.6666666666666666,
              "#ed7953"
             ],
             [
              0.7777777777777778,
              "#fb9f3a"
             ],
             [
              0.8888888888888888,
              "#fdca26"
             ],
             [
              1,
              "#f0f921"
             ]
            ],
            "type": "heatmap"
           }
          ],
          "histogram": [
           {
            "marker": {
             "pattern": {
              "fillmode": "overlay",
              "size": 10,
              "solidity": 0.2
             }
            },
            "type": "histogram"
           }
          ],
          "histogram2d": [
           {
            "colorbar": {
             "outlinewidth": 0,
             "ticks": ""
            },
            "colorscale": [
             [
              0,
              "#0d0887"
             ],
             [
              0.1111111111111111,
              "#46039f"
             ],
             [
              0.2222222222222222,
              "#7201a8"
             ],
             [
              0.3333333333333333,
              "#9c179e"
             ],
             [
              0.4444444444444444,
              "#bd3786"
             ],
             [
              0.5555555555555556,
              "#d8576b"
             ],
             [
              0.6666666666666666,
              "#ed7953"
             ],
             [
              0.7777777777777778,
              "#fb9f3a"
             ],
             [
              0.8888888888888888,
              "#fdca26"
             ],
             [
              1,
              "#f0f921"
             ]
            ],
            "type": "histogram2d"
           }
          ],
          "histogram2dcontour": [
           {
            "colorbar": {
             "outlinewidth": 0,
             "ticks": ""
            },
            "colorscale": [
             [
              0,
              "#0d0887"
             ],
             [
              0.1111111111111111,
              "#46039f"
             ],
             [
              0.2222222222222222,
              "#7201a8"
             ],
             [
              0.3333333333333333,
              "#9c179e"
             ],
             [
              0.4444444444444444,
              "#bd3786"
             ],
             [
              0.5555555555555556,
              "#d8576b"
             ],
             [
              0.6666666666666666,
              "#ed7953"
             ],
             [
              0.7777777777777778,
              "#fb9f3a"
             ],
             [
              0.8888888888888888,
              "#fdca26"
             ],
             [
              1,
              "#f0f921"
             ]
            ],
            "type": "histogram2dcontour"
           }
          ],
          "mesh3d": [
           {
            "colorbar": {
             "outlinewidth": 0,
             "ticks": ""
            },
            "type": "mesh3d"
           }
          ],
          "parcoords": [
           {
            "line": {
             "colorbar": {
              "outlinewidth": 0,
              "ticks": ""
             }
            },
            "type": "parcoords"
           }
          ],
          "pie": [
           {
            "automargin": true,
            "type": "pie"
           }
          ],
          "scatter": [
           {
            "fillpattern": {
             "fillmode": "overlay",
             "size": 10,
             "solidity": 0.2
            },
            "type": "scatter"
           }
          ],
          "scatter3d": [
           {
            "line": {
             "colorbar": {
              "outlinewidth": 0,
              "ticks": ""
             }
            },
            "marker": {
             "colorbar": {
              "outlinewidth": 0,
              "ticks": ""
             }
            },
            "type": "scatter3d"
           }
          ],
          "scattercarpet": [
           {
            "marker": {
             "colorbar": {
              "outlinewidth": 0,
              "ticks": ""
             }
            },
            "type": "scattercarpet"
           }
          ],
          "scattergeo": [
           {
            "marker": {
             "colorbar": {
              "outlinewidth": 0,
              "ticks": ""
             }
            },
            "type": "scattergeo"
           }
          ],
          "scattergl": [
           {
            "marker": {
             "colorbar": {
              "outlinewidth": 0,
              "ticks": ""
             }
            },
            "type": "scattergl"
           }
          ],
          "scattermap": [
           {
            "marker": {
             "colorbar": {
              "outlinewidth": 0,
              "ticks": ""
             }
            },
            "type": "scattermap"
           }
          ],
          "scattermapbox": [
           {
            "marker": {
             "colorbar": {
              "outlinewidth": 0,
              "ticks": ""
             }
            },
            "type": "scattermapbox"
           }
          ],
          "scatterpolar": [
           {
            "marker": {
             "colorbar": {
              "outlinewidth": 0,
              "ticks": ""
             }
            },
            "type": "scatterpolar"
           }
          ],
          "scatterpolargl": [
           {
            "marker": {
             "colorbar": {
              "outlinewidth": 0,
              "ticks": ""
             }
            },
            "type": "scatterpolargl"
           }
          ],
          "scatterternary": [
           {
            "marker": {
             "colorbar": {
              "outlinewidth": 0,
              "ticks": ""
             }
            },
            "type": "scatterternary"
           }
          ],
          "surface": [
           {
            "colorbar": {
             "outlinewidth": 0,
             "ticks": ""
            },
            "colorscale": [
             [
              0,
              "#0d0887"
             ],
             [
              0.1111111111111111,
              "#46039f"
             ],
             [
              0.2222222222222222,
              "#7201a8"
             ],
             [
              0.3333333333333333,
              "#9c179e"
             ],
             [
              0.4444444444444444,
              "#bd3786"
             ],
             [
              0.5555555555555556,
              "#d8576b"
             ],
             [
              0.6666666666666666,
              "#ed7953"
             ],
             [
              0.7777777777777778,
              "#fb9f3a"
             ],
             [
              0.8888888888888888,
              "#fdca26"
             ],
             [
              1,
              "#f0f921"
             ]
            ],
            "type": "surface"
           }
          ],
          "table": [
           {
            "cells": {
             "fill": {
              "color": "#EBF0F8"
             },
             "line": {
              "color": "white"
             }
            },
            "header": {
             "fill": {
              "color": "#C8D4E3"
             },
             "line": {
              "color": "white"
             }
            },
            "type": "table"
           }
          ]
         },
         "layout": {
          "annotationdefaults": {
           "arrowcolor": "#2a3f5f",
           "arrowhead": 0,
           "arrowwidth": 1
          },
          "autotypenumbers": "strict",
          "coloraxis": {
           "colorbar": {
            "outlinewidth": 0,
            "ticks": ""
           }
          },
          "colorscale": {
           "diverging": [
            [
             0,
             "#8e0152"
            ],
            [
             0.1,
             "#c51b7d"
            ],
            [
             0.2,
             "#de77ae"
            ],
            [
             0.3,
             "#f1b6da"
            ],
            [
             0.4,
             "#fde0ef"
            ],
            [
             0.5,
             "#f7f7f7"
            ],
            [
             0.6,
             "#e6f5d0"
            ],
            [
             0.7,
             "#b8e186"
            ],
            [
             0.8,
             "#7fbc41"
            ],
            [
             0.9,
             "#4d9221"
            ],
            [
             1,
             "#276419"
            ]
           ],
           "sequential": [
            [
             0,
             "#0d0887"
            ],
            [
             0.1111111111111111,
             "#46039f"
            ],
            [
             0.2222222222222222,
             "#7201a8"
            ],
            [
             0.3333333333333333,
             "#9c179e"
            ],
            [
             0.4444444444444444,
             "#bd3786"
            ],
            [
             0.5555555555555556,
             "#d8576b"
            ],
            [
             0.6666666666666666,
             "#ed7953"
            ],
            [
             0.7777777777777778,
             "#fb9f3a"
            ],
            [
             0.8888888888888888,
             "#fdca26"
            ],
            [
             1,
             "#f0f921"
            ]
           ],
           "sequentialminus": [
            [
             0,
             "#0d0887"
            ],
            [
             0.1111111111111111,
             "#46039f"
            ],
            [
             0.2222222222222222,
             "#7201a8"
            ],
            [
             0.3333333333333333,
             "#9c179e"
            ],
            [
             0.4444444444444444,
             "#bd3786"
            ],
            [
             0.5555555555555556,
             "#d8576b"
            ],
            [
             0.6666666666666666,
             "#ed7953"
            ],
            [
             0.7777777777777778,
             "#fb9f3a"
            ],
            [
             0.8888888888888888,
             "#fdca26"
            ],
            [
             1,
             "#f0f921"
            ]
           ]
          },
          "colorway": [
           "#636efa",
           "#EF553B",
           "#00cc96",
           "#ab63fa",
           "#FFA15A",
           "#19d3f3",
           "#FF6692",
           "#B6E880",
           "#FF97FF",
           "#FECB52"
          ],
          "font": {
           "color": "#2a3f5f"
          },
          "geo": {
           "bgcolor": "white",
           "lakecolor": "white",
           "landcolor": "#E5ECF6",
           "showlakes": true,
           "showland": true,
           "subunitcolor": "white"
          },
          "hoverlabel": {
           "align": "left"
          },
          "hovermode": "closest",
          "mapbox": {
           "style": "light"
          },
          "paper_bgcolor": "white",
          "plot_bgcolor": "#E5ECF6",
          "polar": {
           "angularaxis": {
            "gridcolor": "white",
            "linecolor": "white",
            "ticks": ""
           },
           "bgcolor": "#E5ECF6",
           "radialaxis": {
            "gridcolor": "white",
            "linecolor": "white",
            "ticks": ""
           }
          },
          "scene": {
           "xaxis": {
            "backgroundcolor": "#E5ECF6",
            "gridcolor": "white",
            "gridwidth": 2,
            "linecolor": "white",
            "showbackground": true,
            "ticks": "",
            "zerolinecolor": "white"
           },
           "yaxis": {
            "backgroundcolor": "#E5ECF6",
            "gridcolor": "white",
            "gridwidth": 2,
            "linecolor": "white",
            "showbackground": true,
            "ticks": "",
            "zerolinecolor": "white"
           },
           "zaxis": {
            "backgroundcolor": "#E5ECF6",
            "gridcolor": "white",
            "gridwidth": 2,
            "linecolor": "white",
            "showbackground": true,
            "ticks": "",
            "zerolinecolor": "white"
           }
          },
          "shapedefaults": {
           "line": {
            "color": "#2a3f5f"
           }
          },
          "ternary": {
           "aaxis": {
            "gridcolor": "white",
            "linecolor": "white",
            "ticks": ""
           },
           "baxis": {
            "gridcolor": "white",
            "linecolor": "white",
            "ticks": ""
           },
           "bgcolor": "#E5ECF6",
           "caxis": {
            "gridcolor": "white",
            "linecolor": "white",
            "ticks": ""
           }
          },
          "title": {
           "x": 0.05
          },
          "xaxis": {
           "automargin": true,
           "gridcolor": "white",
           "linecolor": "white",
           "ticks": "",
           "title": {
            "standoff": 15
           },
           "zerolinecolor": "white",
           "zerolinewidth": 2
          },
          "yaxis": {
           "automargin": true,
           "gridcolor": "white",
           "linecolor": "white",
           "ticks": "",
           "title": {
            "standoff": 15
           },
           "zerolinecolor": "white",
           "zerolinewidth": 2
          }
         }
        },
        "title": {
         "text": "Microsoft Stock Data"
        },
        "xaxis": {
         "rangeslider": {
          "visible": true
         },
         "title": {
          "text": "Date"
         }
        },
        "yaxis": {
         "title": {
          "text": "Price"
         }
        }
       }
      }
     },
     "metadata": {},
     "output_type": "display_data"
    }
   ],
   "source": [
    "fig = go.Figure(data=[go.Candlestick(\n",
    "    x = df['date'],\n",
    "    open=df['open'],\n",
    "    close=df['close'],\n",
    "    high=df['high'],\n",
    "    low=df['low'],\n",
    "    increasing_line_color = 'green',\n",
    "    decreasing_line_color = 'red'\n",
    ")])\n",
    "\n",
    "fig.update_layout(title=\"Microsoft Stock Data\",\n",
    "                  xaxis_title = 'Date',\n",
    "                  yaxis_title='Price',\n",
    "                  xaxis_rangeslider_visible = True)\n",
    "\n",
    "fig.show()"
   ]
  },
  {
   "cell_type": "markdown",
   "id": "df67f46b",
   "metadata": {},
   "source": [
    "- #### Seasonality Detection"
   ]
  },
  {
   "cell_type": "code",
   "execution_count": 13,
   "id": "586d86f1",
   "metadata": {},
   "outputs": [
    {
     "data": {
      "image/png": "[encoded data removed]",
      "text/plain": [
       "<Figure size 1600x800 with 1 Axes>"
      ]
     },
     "metadata": {},
     "output_type": "display_data"
    },
    {
     "data": {
      "image/png": "[encoded data removed]",
      "text/plain": [
       "<Figure size 1400x1000 with 4 Axes>"
      ]
     },
     "metadata": {},
     "output_type": "display_data"
    }
   ],
   "source": [
    "#Rolling Averages\n",
    "df['MA_30'] = df['close'].rolling(window=30).mean()\n",
    "df['MA_90'] = df['close'].rolling(window=90).mean()\n",
    "\n",
    "#Plot original + rolling mean\n",
    "plt.figure(figsize=(16,8))\n",
    "plt.plot(df['close'], label=\"Close Price\", alpha=0.5)\n",
    "plt.plot(df['MA_30'], label='30_Days Moving Average', color='blue')\n",
    "plt.plot(df['MA_90'], label='90_Days Moving Average', color='orange')\n",
    "plt.title(\"Trend Detection with Moving Averages\")\n",
    "plt.legend()\n",
    "plt.grid(True)\n",
    "plt.plot()\n",
    "\n",
    "#-------Seasonal Decomposition------------\n",
    "decomposition = seasonal_decompose(df['close'], model='additive', period=30)\n",
    "fig = decomposition.plot()\n",
    "fig.set_size_inches(14,10)\n",
    "plt.suptitle('Seasonal Decomposition of Microsoft Stock', fontsize=16)\n",
    "plt.show()\n",
    "\n"
   ]
  },
  {
   "cell_type": "markdown",
   "id": "0fd381b4",
   "metadata": {},
   "source": [
    "### Data Preprocessing"
   ]
  },
  {
   "cell_type": "code",
   "execution_count": 15,
   "id": "72ed62e9",
   "metadata": {},
   "outputs": [],
   "source": [
    "stock_close = data.filter(['close'])\n",
    "\n",
    "#Convert to Numpy Array \n",
    "dataset = stock_close.values \n",
    "\n",
    "#95% of the dataset will be training data\n",
    "training_data_len = int(np.ceil(len(dataset) * 0.95))\n",
    "\n",
    "scaler = StandardScaler()\n",
    "scaled_data = scaler.fit_transform(dataset)\n",
    "\n",
    "training_data = scaled_data[:training_data_len]\n",
    "\n",
    "X_train, Y_train = [] , []\n",
    "\n",
    "#Create a sliding window of 60 Days for our data.\n",
    "for i in range(60, len(training_data)):\n",
    "    X_train.append(training_data[i-60:i, 0])\n",
    "    Y_train.append(training_data[i,0])\n",
    "    \n",
    "#Change the Train datasets to Numpy Array from List\n",
    "X_train, Y_train = np.array(X_train), np.array(Y_train)\n",
    "\n",
    "#Reshape the Numpy array \n",
    "X_train = np.reshape(X_train, (X_train.shape[0], X_train.shape[1], 1))\n",
    "\n",
    "\n",
    "\n",
    "    \n",
    "\n",
    "    "
   ]
  },
  {
   "cell_type": "code",
   "execution_count": 16,
   "id": "521622ce",
   "metadata": {},
   "outputs": [],
   "source": [
    "test_data = scaled_data[training_data_len-60:]\n",
    "X_test , Y_test = [] , dataset[training_data_len:]\n",
    "\n",
    "for i in range(60, len(test_data)):\n",
    "    X_test.append(test_data[i-60:i, 0])\n",
    "\n",
    "X_test = np.array(X_test)\n",
    "X_test = np.reshape(X_test, (X_test.shape[0] , X_test.shape[1], 1))"
   ]
  },
  {
   "cell_type": "markdown",
   "id": "ea6fec1c",
   "metadata": {},
   "source": [
    "## Model Architecture"
   ]
  },
  {
   "cell_type": "markdown",
   "id": "a9d1c7f3",
   "metadata": {},
   "source": [
    "##### Load the pre-trained model if available"
   ]
  },
  {
   "cell_type": "code",
   "execution_count": null,
   "id": "13e9e5f1",
   "metadata": {},
   "outputs": [],
   "source": [
    "model = joblib.load('./models/model.pkl')"
   ]
  },
  {
   "cell_type": "code",
   "execution_count": 23,
   "id": "8cb1ab8a",
   "metadata": {},
   "outputs": [
    {
     "data": {
      "text/html": [
       "<pre style=\"white-space:pre;overflow-x:auto;line-height:normal;font-family:Menlo,'DejaVu Sans Mono',consolas,'Courier New',monospace\"><span style=\"font-weight: bold\">Model: \"sequential\"</span>\n",
       "</pre>\n"
      ],
      "text/plain": [
       "\u001b[1mModel: \"sequential\"\u001b[0m\n"
      ]
     },
     "metadata": {},
     "output_type": "display_data"
    },
    {
     "data": {
      "text/html": [
       "<pre style=\"white-space:pre;overflow-x:auto;line-height:normal;font-family:Menlo,'DejaVu Sans Mono',consolas,'Courier New',monospace\">┏━━━━━━━━━━━━━━━━━━━━━━━━━━━━━━━━━┳━━━━━━━━━━━━━━━━━━━━━━━━┳━━━━━━━━━━━━━━━┓\n",
       "┃<span style=\"font-weight: bold\"> Layer (type)                    </span>┃<span style=\"font-weight: bold\"> Output Shape           </span>┃<span style=\"font-weight: bold\">       Param # </span>┃\n",
       "┡━━━━━━━━━━━━━━━━━━━━━━━━━━━━━━━━━╇━━━━━━━━━━━━━━━━━━━━━━━━╇━━━━━━━━━━━━━━━┩\n",
       "│ lstm (<span style=\"color: #0087ff; text-decoration-color: #0087ff\">LSTM</span>)                     │ (<span style=\"color: #00d7ff; text-decoration-color: #00d7ff\">None</span>, <span style=\"color: #00af00; text-decoration-color: #00af00\">60</span>, <span style=\"color: #00af00; text-decoration-color: #00af00\">64</span>)         │        <span style=\"color: #00af00; text-decoration-color: #00af00\">16,896</span> │\n",
       "├─────────────────────────────────┼────────────────────────┼───────────────┤\n",
       "│ lstm_1 (<span style=\"color: #0087ff; text-decoration-color: #0087ff\">LSTM</span>)                   │ (<span style=\"color: #00d7ff; text-decoration-color: #00d7ff\">None</span>, <span style=\"color: #00af00; text-decoration-color: #00af00\">64</span>)             │        <span style=\"color: #00af00; text-decoration-color: #00af00\">33,024</span> │\n",
       "├─────────────────────────────────┼────────────────────────┼───────────────┤\n",
       "│ dense (<span style=\"color: #0087ff; text-decoration-color: #0087ff\">Dense</span>)                   │ (<span style=\"color: #00d7ff; text-decoration-color: #00d7ff\">None</span>, <span style=\"color: #00af00; text-decoration-color: #00af00\">128</span>)            │         <span style=\"color: #00af00; text-decoration-color: #00af00\">8,320</span> │\n",
       "├─────────────────────────────────┼────────────────────────┼───────────────┤\n",
       "│ dropout (<span style=\"color: #0087ff; text-decoration-color: #0087ff\">Dropout</span>)               │ (<span style=\"color: #00d7ff; text-decoration-color: #00d7ff\">None</span>, <span style=\"color: #00af00; text-decoration-color: #00af00\">128</span>)            │             <span style=\"color: #00af00; text-decoration-color: #00af00\">0</span> │\n",
       "├─────────────────────────────────┼────────────────────────┼───────────────┤\n",
       "│ dense_1 (<span style=\"color: #0087ff; text-decoration-color: #0087ff\">Dense</span>)                 │ (<span style=\"color: #00d7ff; text-decoration-color: #00d7ff\">None</span>, <span style=\"color: #00af00; text-decoration-color: #00af00\">1</span>)              │           <span style=\"color: #00af00; text-decoration-color: #00af00\">129</span> │\n",
       "└─────────────────────────────────┴────────────────────────┴───────────────┘\n",
       "</pre>\n"
      ],
      "text/plain": [
       "┏━━━━━━━━━━━━━━━━━━━━━━━━━━━━━━━━━┳━━━━━━━━━━━━━━━━━━━━━━━━┳━━━━━━━━━━━━━━━┓\n",
       "┃\u001b[1m \u001b[0m\u001b[1mLayer (type)                   \u001b[0m\u001b[1m \u001b[0m┃\u001b[1m \u001b[0m\u001b[1mOutput Shape          \u001b[0m\u001b[1m \u001b[0m┃\u001b[1m \u001b[0m\u001b[1m      Param #\u001b[0m\u001b[1m \u001b[0m┃\n",
       "┡━━━━━━━━━━━━━━━━━━━━━━━━━━━━━━━━━╇━━━━━━━━━━━━━━━━━━━━━━━━╇━━━━━━━━━━━━━━━┩\n",
       "│ lstm (\u001b[38;5;33mLSTM\u001b[0m)                     │ (\u001b[38;5;45mNone\u001b[0m, \u001b[38;5;34m60\u001b[0m, \u001b[38;5;34m64\u001b[0m)         │        \u001b[38;5;34m16,896\u001b[0m │\n",
       "├─────────────────────────────────┼────────────────────────┼───────────────┤\n",
       "│ lstm_1 (\u001b[38;5;33mLSTM\u001b[0m)                   │ (\u001b[38;5;45mNone\u001b[0m, \u001b[38;5;34m64\u001b[0m)             │        \u001b[38;5;34m33,024\u001b[0m │\n",
       "├─────────────────────────────────┼────────────────────────┼───────────────┤\n",
       "│ dense (\u001b[38;5;33mDense\u001b[0m)                   │ (\u001b[38;5;45mNone\u001b[0m, \u001b[38;5;34m128\u001b[0m)            │         \u001b[38;5;34m8,320\u001b[0m │\n",
       "├─────────────────────────────────┼────────────────────────┼───────────────┤\n",
       "│ dropout (\u001b[38;5;33mDropout\u001b[0m)               │ (\u001b[38;5;45mNone\u001b[0m, \u001b[38;5;34m128\u001b[0m)            │             \u001b[38;5;34m0\u001b[0m │\n",
       "├─────────────────────────────────┼────────────────────────┼───────────────┤\n",
       "│ dense_1 (\u001b[38;5;33mDense\u001b[0m)                 │ (\u001b[38;5;45mNone\u001b[0m, \u001b[38;5;34m1\u001b[0m)              │           \u001b[38;5;34m129\u001b[0m │\n",
       "└─────────────────────────────────┴────────────────────────┴───────────────┘\n"
      ]
     },
     "metadata": {},
     "output_type": "display_data"
    },
    {
     "data": {
      "text/html": [
       "<pre style=\"white-space:pre;overflow-x:auto;line-height:normal;font-family:Menlo,'DejaVu Sans Mono',consolas,'Courier New',monospace\"><span style=\"font-weight: bold\"> Total params: </span><span style=\"color: #00af00; text-decoration-color: #00af00\">175,109</span> (684.02 KB)\n",
       "</pre>\n"
      ],
      "text/plain": [
       "\u001b[1m Total params: \u001b[0m\u001b[38;5;34m175,109\u001b[0m (684.02 KB)\n"
      ]
     },
     "metadata": {},
     "output_type": "display_data"
    },
    {
     "data": {
      "text/html": [
       "<pre style=\"white-space:pre;overflow-x:auto;line-height:normal;font-family:Menlo,'DejaVu Sans Mono',consolas,'Courier New',monospace\"><span style=\"font-weight: bold\"> Trainable params: </span><span style=\"color: #00af00; text-decoration-color: #00af00\">58,369</span> (228.00 KB)\n",
       "</pre>\n"
      ],
      "text/plain": [
       "\u001b[1m Trainable params: \u001b[0m\u001b[38;5;34m58,369\u001b[0m (228.00 KB)\n"
      ]
     },
     "metadata": {},
     "output_type": "display_data"
    },
    {
     "data": {
      "text/html": [
       "<pre style=\"white-space:pre;overflow-x:auto;line-height:normal;font-family:Menlo,'DejaVu Sans Mono',consolas,'Courier New',monospace\"><span style=\"font-weight: bold\"> Non-trainable params: </span><span style=\"color: #00af00; text-decoration-color: #00af00\">0</span> (0.00 B)\n",
       "</pre>\n"
      ],
      "text/plain": [
       "\u001b[1m Non-trainable params: \u001b[0m\u001b[38;5;34m0\u001b[0m (0.00 B)\n"
      ]
     },
     "metadata": {},
     "output_type": "display_data"
    },
    {
     "data": {
      "text/html": [
       "<pre style=\"white-space:pre;overflow-x:auto;line-height:normal;font-family:Menlo,'DejaVu Sans Mono',consolas,'Courier New',monospace\"><span style=\"font-weight: bold\"> Optimizer params: </span><span style=\"color: #00af00; text-decoration-color: #00af00\">116,740</span> (456.02 KB)\n",
       "</pre>\n"
      ],
      "text/plain": [
       "\u001b[1m Optimizer params: \u001b[0m\u001b[38;5;34m116,740\u001b[0m (456.02 KB)\n"
      ]
     },
     "metadata": {},
     "output_type": "display_data"
    }
   ],
   "source": [
    "model.summary()"
   ]
  },
  {
   "cell_type": "markdown",
   "id": "a410f76f",
   "metadata": {},
   "source": [
    "#### Run the following code if model is not available"
   ]
  },
  {
   "cell_type": "code",
   "execution_count": 17,
   "id": "e3353e2e",
   "metadata": {},
   "outputs": [
    {
     "name": "stderr",
     "output_type": "stream",
     "text": [
      "c:\\Python\\Lib\\site-packages\\keras\\src\\layers\\rnn\\rnn.py:204: UserWarning:\n",
      "\n",
      "Do not pass an `input_shape`/`input_dim` argument to a layer. When using Sequential models, prefer using an `Input(shape)` object as the first layer in the model instead.\n",
      "\n"
     ]
    },
    {
     "data": {
      "text/html": [
       "<pre style=\"white-space:pre;overflow-x:auto;line-height:normal;font-family:Menlo,'DejaVu Sans Mono',consolas,'Courier New',monospace\"><span style=\"font-weight: bold\">Model: \"sequential\"</span>\n",
       "</pre>\n"
      ],
      "text/plain": [
       "\u001b[1mModel: \"sequential\"\u001b[0m\n"
      ]
     },
     "metadata": {},
     "output_type": "display_data"
    },
    {
     "data": {
      "text/html": [
       "<pre style=\"white-space:pre;overflow-x:auto;line-height:normal;font-family:Menlo,'DejaVu Sans Mono',consolas,'Courier New',monospace\">┏━━━━━━━━━━━━━━━━━━━━━━━━━━━━━━━━━┳━━━━━━━━━━━━━━━━━━━━━━━━┳━━━━━━━━━━━━━━━┓\n",
       "┃<span style=\"font-weight: bold\"> Layer (type)                    </span>┃<span style=\"font-weight: bold\"> Output Shape           </span>┃<span style=\"font-weight: bold\">       Param # </span>┃\n",
       "┡━━━━━━━━━━━━━━━━━━━━━━━━━━━━━━━━━╇━━━━━━━━━━━━━━━━━━━━━━━━╇━━━━━━━━━━━━━━━┩\n",
       "│ lstm (<span style=\"color: #0087ff; text-decoration-color: #0087ff\">LSTM</span>)                     │ (<span style=\"color: #00d7ff; text-decoration-color: #00d7ff\">None</span>, <span style=\"color: #00af00; text-decoration-color: #00af00\">60</span>, <span style=\"color: #00af00; text-decoration-color: #00af00\">64</span>)         │        <span style=\"color: #00af00; text-decoration-color: #00af00\">16,896</span> │\n",
       "├─────────────────────────────────┼────────────────────────┼───────────────┤\n",
       "│ lstm_1 (<span style=\"color: #0087ff; text-decoration-color: #0087ff\">LSTM</span>)                   │ (<span style=\"color: #00d7ff; text-decoration-color: #00d7ff\">None</span>, <span style=\"color: #00af00; text-decoration-color: #00af00\">64</span>)             │        <span style=\"color: #00af00; text-decoration-color: #00af00\">33,024</span> │\n",
       "├─────────────────────────────────┼────────────────────────┼───────────────┤\n",
       "│ dense (<span style=\"color: #0087ff; text-decoration-color: #0087ff\">Dense</span>)                   │ (<span style=\"color: #00d7ff; text-decoration-color: #00d7ff\">None</span>, <span style=\"color: #00af00; text-decoration-color: #00af00\">128</span>)            │         <span style=\"color: #00af00; text-decoration-color: #00af00\">8,320</span> │\n",
       "├─────────────────────────────────┼────────────────────────┼───────────────┤\n",
       "│ dropout (<span style=\"color: #0087ff; text-decoration-color: #0087ff\">Dropout</span>)               │ (<span style=\"color: #00d7ff; text-decoration-color: #00d7ff\">None</span>, <span style=\"color: #00af00; text-decoration-color: #00af00\">128</span>)            │             <span style=\"color: #00af00; text-decoration-color: #00af00\">0</span> │\n",
       "├─────────────────────────────────┼────────────────────────┼───────────────┤\n",
       "│ dense_1 (<span style=\"color: #0087ff; text-decoration-color: #0087ff\">Dense</span>)                 │ (<span style=\"color: #00d7ff; text-decoration-color: #00d7ff\">None</span>, <span style=\"color: #00af00; text-decoration-color: #00af00\">1</span>)              │           <span style=\"color: #00af00; text-decoration-color: #00af00\">129</span> │\n",
       "└─────────────────────────────────┴────────────────────────┴───────────────┘\n",
       "</pre>\n"
      ],
      "text/plain": [
       "┏━━━━━━━━━━━━━━━━━━━━━━━━━━━━━━━━━┳━━━━━━━━━━━━━━━━━━━━━━━━┳━━━━━━━━━━━━━━━┓\n",
       "┃\u001b[1m \u001b[0m\u001b[1mLayer (type)                   \u001b[0m\u001b[1m \u001b[0m┃\u001b[1m \u001b[0m\u001b[1mOutput Shape          \u001b[0m\u001b[1m \u001b[0m┃\u001b[1m \u001b[0m\u001b[1m      Param #\u001b[0m\u001b[1m \u001b[0m┃\n",
       "┡━━━━━━━━━━━━━━━━━━━━━━━━━━━━━━━━━╇━━━━━━━━━━━━━━━━━━━━━━━━╇━━━━━━━━━━━━━━━┩\n",
       "│ lstm (\u001b[38;5;33mLSTM\u001b[0m)                     │ (\u001b[38;5;45mNone\u001b[0m, \u001b[38;5;34m60\u001b[0m, \u001b[38;5;34m64\u001b[0m)         │        \u001b[38;5;34m16,896\u001b[0m │\n",
       "├─────────────────────────────────┼────────────────────────┼───────────────┤\n",
       "│ lstm_1 (\u001b[38;5;33mLSTM\u001b[0m)                   │ (\u001b[38;5;45mNone\u001b[0m, \u001b[38;5;34m64\u001b[0m)             │        \u001b[38;5;34m33,024\u001b[0m │\n",
       "├─────────────────────────────────┼────────────────────────┼───────────────┤\n",
       "│ dense (\u001b[38;5;33mDense\u001b[0m)                   │ (\u001b[38;5;45mNone\u001b[0m, \u001b[38;5;34m128\u001b[0m)            │         \u001b[38;5;34m8,320\u001b[0m │\n",
       "├─────────────────────────────────┼────────────────────────┼───────────────┤\n",
       "│ dropout (\u001b[38;5;33mDropout\u001b[0m)               │ (\u001b[38;5;45mNone\u001b[0m, \u001b[38;5;34m128\u001b[0m)            │             \u001b[38;5;34m0\u001b[0m │\n",
       "├─────────────────────────────────┼────────────────────────┼───────────────┤\n",
       "│ dense_1 (\u001b[38;5;33mDense\u001b[0m)                 │ (\u001b[38;5;45mNone\u001b[0m, \u001b[38;5;34m1\u001b[0m)              │           \u001b[38;5;34m129\u001b[0m │\n",
       "└─────────────────────────────────┴────────────────────────┴───────────────┘\n"
      ]
     },
     "metadata": {},
     "output_type": "display_data"
    },
    {
     "data": {
      "text/html": [
       "<pre style=\"white-space:pre;overflow-x:auto;line-height:normal;font-family:Menlo,'DejaVu Sans Mono',consolas,'Courier New',monospace\"><span style=\"font-weight: bold\"> Total params: </span><span style=\"color: #00af00; text-decoration-color: #00af00\">58,369</span> (228.00 KB)\n",
       "</pre>\n"
      ],
      "text/plain": [
       "\u001b[1m Total params: \u001b[0m\u001b[38;5;34m58,369\u001b[0m (228.00 KB)\n"
      ]
     },
     "metadata": {},
     "output_type": "display_data"
    },
    {
     "data": {
      "text/html": [
       "<pre style=\"white-space:pre;overflow-x:auto;line-height:normal;font-family:Menlo,'DejaVu Sans Mono',consolas,'Courier New',monospace\"><span style=\"font-weight: bold\"> Trainable params: </span><span style=\"color: #00af00; text-decoration-color: #00af00\">58,369</span> (228.00 KB)\n",
       "</pre>\n"
      ],
      "text/plain": [
       "\u001b[1m Trainable params: \u001b[0m\u001b[38;5;34m58,369\u001b[0m (228.00 KB)\n"
      ]
     },
     "metadata": {},
     "output_type": "display_data"
    },
    {
     "data": {
      "text/html": [
       "<pre style=\"white-space:pre;overflow-x:auto;line-height:normal;font-family:Menlo,'DejaVu Sans Mono',consolas,'Courier New',monospace\"><span style=\"font-weight: bold\"> Non-trainable params: </span><span style=\"color: #00af00; text-decoration-color: #00af00\">0</span> (0.00 B)\n",
       "</pre>\n"
      ],
      "text/plain": [
       "\u001b[1m Non-trainable params: \u001b[0m\u001b[38;5;34m0\u001b[0m (0.00 B)\n"
      ]
     },
     "metadata": {},
     "output_type": "display_data"
    }
   ],
   "source": [
    "model = Sequential()\n",
    "\n",
    "#First Layer\n",
    "model.add(LSTM(64, return_sequences=True, input_shape = (X_train.shape[1], 1)))\n",
    "\n",
    "#Second Layer\n",
    "model.add(LSTM(64, return_sequences=False))\n",
    "\n",
    "#Third Layer {Layer will be Dense}\n",
    "model.add(Dense(128, activation='relu'))\n",
    "\n",
    "#Fourth Layer {Layer will be Dropout}\n",
    "model.add(Dropout(0.5))\n",
    "\n",
    "#Final Output layer\n",
    "model.add(Dense(1))\n",
    "\n",
    "model.summary()\n",
    "model.compile(\n",
    "    optimizer = \"adam\",\n",
    "    loss = 'mae',\n",
    "    metrics = [RootMeanSquaredError()]\n",
    ")"
   ]
  },
  {
   "cell_type": "markdown",
   "id": "60628bd8",
   "metadata": {},
   "source": [
    "##### Training the Model"
   ]
  },
  {
   "cell_type": "code",
   "execution_count": null,
   "id": "ee49229f",
   "metadata": {},
   "outputs": [
    {
     "name": "stdout",
     "output_type": "stream",
     "text": [
      "Epoch 1/20\n",
      "\u001b[1m36/36\u001b[0m \u001b[32m━━━━━━━━━━━━━━━━━━━━\u001b[0m\u001b[37m\u001b[0m \u001b[1m6s\u001b[0m 40ms/step - loss: 0.3485 - root_mean_squared_error: 0.4863\n",
      "Epoch 2/20\n",
      "\u001b[1m36/36\u001b[0m \u001b[32m━━━━━━━━━━━━━━━━━━━━\u001b[0m\u001b[37m\u001b[0m \u001b[1m1s\u001b[0m 40ms/step - loss: 0.1303 - root_mean_squared_error: 0.1763\n",
      "Epoch 3/20\n",
      "\u001b[1m36/36\u001b[0m \u001b[32m━━━━━━━━━━━━━━━━━━━━\u001b[0m\u001b[37m\u001b[0m \u001b[1m1s\u001b[0m 41ms/step - loss: 0.1240 - root_mean_squared_error: 0.1673\n",
      "Epoch 4/20\n",
      "\u001b[1m36/36\u001b[0m \u001b[32m━━━━━━━━━━━━━━━━━━━━\u001b[0m\u001b[37m\u001b[0m \u001b[1m1s\u001b[0m 40ms/step - loss: 0.1140 - root_mean_squared_error: 0.1551\n",
      "Epoch 5/20\n",
      "\u001b[1m36/36\u001b[0m \u001b[32m━━━━━━━━━━━━━━━━━━━━\u001b[0m\u001b[37m\u001b[0m \u001b[1m1s\u001b[0m 39ms/step - loss: 0.1190 - root_mean_squared_error: 0.1640\n",
      "Epoch 6/20\n",
      "\u001b[1m36/36\u001b[0m \u001b[32m━━━━━━━━━━━━━━━━━━━━\u001b[0m\u001b[37m\u001b[0m \u001b[1m2s\u001b[0m 41ms/step - loss: 0.1136 - root_mean_squared_error: 0.1553\n",
      "Epoch 7/20\n",
      "\u001b[1m36/36\u001b[0m \u001b[32m━━━━━━━━━━━━━━━━━━━━\u001b[0m\u001b[37m\u001b[0m \u001b[1m2s\u001b[0m 42ms/step - loss: 0.1065 - root_mean_squared_error: 0.1499\n",
      "Epoch 8/20\n",
      "\u001b[1m36/36\u001b[0m \u001b[32m━━━━━━━━━━━━━━━━━━━━\u001b[0m\u001b[37m\u001b[0m \u001b[1m1s\u001b[0m 40ms/step - loss: 0.1042 - root_mean_squared_error: 0.1382\n",
      "Epoch 9/20\n",
      "\u001b[1m36/36\u001b[0m \u001b[32m━━━━━━━━━━━━━━━━━━━━\u001b[0m\u001b[37m\u001b[0m \u001b[1m1s\u001b[0m 38ms/step - loss: 0.0995 - root_mean_squared_error: 0.1351\n",
      "Epoch 10/20\n",
      "\u001b[1m36/36\u001b[0m \u001b[32m━━━━━━━━━━━━━━━━━━━━\u001b[0m\u001b[37m\u001b[0m \u001b[1m1s\u001b[0m 32ms/step - loss: 0.0967 - root_mean_squared_error: 0.1344\n",
      "Epoch 11/20\n",
      "\u001b[1m36/36\u001b[0m \u001b[32m━━━━━━━━━━━━━━━━━━━━\u001b[0m\u001b[37m\u001b[0m \u001b[1m1s\u001b[0m 30ms/step - loss: 0.1000 - root_mean_squared_error: 0.1354\n",
      "Epoch 12/20\n",
      "\u001b[1m36/36\u001b[0m \u001b[32m━━━━━━━━━━━━━━━━━━━━\u001b[0m\u001b[37m\u001b[0m \u001b[1m1s\u001b[0m 32ms/step - loss: 0.0972 - root_mean_squared_error: 0.1341\n",
      "Epoch 13/20\n",
      "\u001b[1m36/36\u001b[0m \u001b[32m━━━━━━━━━━━━━━━━━━━━\u001b[0m\u001b[37m\u001b[0m \u001b[1m1s\u001b[0m 32ms/step - loss: 0.0946 - root_mean_squared_error: 0.1299\n",
      "Epoch 14/20\n",
      "\u001b[1m36/36\u001b[0m \u001b[32m━━━━━━━━━━━━━━━━━━━━\u001b[0m\u001b[37m\u001b[0m \u001b[1m1s\u001b[0m 32ms/step - loss: 0.0982 - root_mean_squared_error: 0.1354\n",
      "Epoch 15/20\n",
      "\u001b[1m36/36\u001b[0m \u001b[32m━━━━━━━━━━━━━━━━━━━━\u001b[0m\u001b[37m\u001b[0m \u001b[1m1s\u001b[0m 32ms/step - loss: 0.0925 - root_mean_squared_error: 0.1255\n",
      "Epoch 16/20\n",
      "\u001b[1m36/36\u001b[0m \u001b[32m━━━━━━━━━━━━━━━━━━━━\u001b[0m\u001b[37m\u001b[0m \u001b[1m1s\u001b[0m 32ms/step - loss: 0.0939 - root_mean_squared_error: 0.1309\n",
      "Epoch 17/20\n",
      "\u001b[1m36/36\u001b[0m \u001b[32m━━━━━━━━━━━━━━━━━━━━\u001b[0m\u001b[37m\u001b[0m \u001b[1m1s\u001b[0m 32ms/step - loss: 0.0954 - root_mean_squared_error: 0.1304\n",
      "Epoch 18/20\n",
      "\u001b[1m36/36\u001b[0m \u001b[32m━━━━━━━━━━━━━━━━━━━━\u001b[0m\u001b[37m\u001b[0m \u001b[1m1s\u001b[0m 32ms/step - loss: 0.0950 - root_mean_squared_error: 0.1288\n",
      "Epoch 19/20\n",
      "\u001b[1m36/36\u001b[0m \u001b[32m━━━━━━━━━━━━━━━━━━━━\u001b[0m\u001b[37m\u001b[0m \u001b[1m1s\u001b[0m 34ms/step - loss: 0.0992 - root_mean_squared_error: 0.1315\n",
      "Epoch 20/20\n",
      "\u001b[1m36/36\u001b[0m \u001b[32m━━━━━━━━━━━━━━━━━━━━\u001b[0m\u001b[37m\u001b[0m \u001b[1m1s\u001b[0m 36ms/step - loss: 0.0967 - root_mean_squared_error: 0.1392\n"
     ]
    }
   ],
   "source": [
    "training = model.fit(X_train, Y_train, epochs = 20, batch_size=32)\n",
    "\n"
   ]
  },
  {
   "cell_type": "markdown",
   "id": "3dbfc912",
   "metadata": {},
   "source": [
    "### Prediction/ Results"
   ]
  },
  {
   "cell_type": "code",
   "execution_count": 24,
   "id": "6a7d85bc",
   "metadata": {},
   "outputs": [
    {
     "name": "stdout",
     "output_type": "stream",
     "text": [
      "\u001b[1m2/2\u001b[0m \u001b[32m━━━━━━━━━━━━━━━━━━━━\u001b[0m\u001b[37m\u001b[0m \u001b[1m1s\u001b[0m 432ms/step\n"
     ]
    }
   ],
   "source": [
    "predictions = model.predict(X_test)\n",
    "predictions = scaler.inverse_transform(predictions)"
   ]
  },
  {
   "cell_type": "markdown",
   "id": "f2cd7e88",
   "metadata": {},
   "source": [
    "#### Visualizing the Predictions"
   ]
  },
  {
   "cell_type": "markdown",
   "id": "be8401fa",
   "metadata": {},
   "source": [
    "- #### The model predicts only the last 62 days of values."
   ]
  },
  {
   "cell_type": "code",
   "execution_count": 29,
   "id": "d80498d7",
   "metadata": {},
   "outputs": [
    {
     "name": "stdout",
     "output_type": "stream",
     "text": [
      "62 1259\n"
     ]
    }
   ],
   "source": [
    "print(len(predictions) , len(df))\n",
    "\n",
    "df['Predicted'] = np.nan\n",
    "\n",
    "df.loc[df.index[-len(predictions):], 'Predicted'] = predictions"
   ]
  },
  {
   "cell_type": "code",
   "execution_count": 30,
   "id": "5a4b2ec5",
   "metadata": {},
   "outputs": [
    {
     "data": {
      "application/vnd.microsoft.datawrangler.viewer.v0+json": {
       "columns": [
        {
         "name": "index",
         "rawType": "int64",
         "type": "integer"
        },
        {
         "name": "index",
         "rawType": "int64",
         "type": "integer"
        },
        {
         "name": "date",
         "rawType": "datetime64[ns]",
         "type": "datetime"
        },
        {
         "name": "open",
         "rawType": "float64",
         "type": "float"
        },
        {
         "name": "high",
         "rawType": "float64",
         "type": "float"
        },
        {
         "name": "low",
         "rawType": "float64",
         "type": "float"
        },
        {
         "name": "close",
         "rawType": "float64",
         "type": "float"
        },
        {
         "name": "volume",
         "rawType": "int64",
         "type": "integer"
        },
        {
         "name": "Name",
         "rawType": "object",
         "type": "string"
        },
        {
         "name": "MA_30",
         "rawType": "float64",
         "type": "float"
        },
        {
         "name": "MA_90",
         "rawType": "float64",
         "type": "float"
        },
        {
         "name": "Predicted",
         "rawType": "float64",
         "type": "float"
        }
       ],
       "conversionMethod": "pd.DataFrame",
       "ref": "e865df4a-f38e-4707-aebc-5c982991d4d3",
       "rows": [
        [
         "0",
         "390198",
         "2013-02-08 00:00:00",
         "27.35",
         "27.71",
         "27.31",
         "27.55",
         "33318306",
         "MSFT",
         null,
         null,
         null
        ],
        [
         "1",
         "390199",
         "2013-02-11 00:00:00",
         "27.65",
         "27.92",
         "27.5",
         "27.86",
         "32247549",
         "MSFT",
         null,
         null,
         null
        ],
        [
         "2",
         "390200",
         "2013-02-12 00:00:00",
         "27.88",
         "28.0",
         "27.75",
         "27.88",
         "35990829",
         "MSFT",
         null,
         null,
         null
        ],
        [
         "3",
         "390201",
         "2013-02-13 00:00:00",
         "27.93",
         "28.11",
         "27.88",
         "28.03",
         "41715530",
         "MSFT",
         null,
         null,
         null
        ],
        [
         "4",
         "390202",
         "2013-02-14 00:00:00",
         "27.92",
         "28.06",
         "27.87",
         "28.04",
         "32663174",
         "MSFT",
         null,
         null,
         null
        ],
        [
         "5",
         "390203",
         "2013-02-15 00:00:00",
         "28.04",
         "28.16",
         "27.875",
         "28.01",
         "49650538",
         "MSFT",
         null,
         null,
         null
        ],
        [
         "6",
         "390204",
         "2013-02-19 00:00:00",
         "27.8801",
         "28.09",
         "27.8",
         "28.045",
         "38804616",
         "MSFT",
         null,
         null,
         null
        ],
        [
         "7",
         "390205",
         "2013-02-20 00:00:00",
         "28.13",
         "28.2",
         "27.83",
         "27.87",
         "44109412",
         "MSFT",
         null,
         null,
         null
        ],
        [
         "8",
         "390206",
         "2013-02-21 00:00:00",
         "27.74",
         "27.74",
         "27.23",
         "27.49",
         "49078338",
         "MSFT",
         null,
         null,
         null
        ],
        [
         "9",
         "390207",
         "2013-02-22 00:00:00",
         "27.68",
         "27.76",
         "27.48",
         "27.76",
         "31425726",
         "MSFT",
         null,
         null,
         null
        ],
        [
         "10",
         "390208",
         "2013-02-25 00:00:00",
         "27.97",
         "28.05",
         "27.37",
         "27.37",
         "48011248",
         "MSFT",
         null,
         null,
         null
        ],
        [
         "11",
         "390209",
         "2013-02-26 00:00:00",
         "27.38",
         "27.6",
         "27.34",
         "27.37",
         "49917353",
         "MSFT",
         null,
         null,
         null
        ],
        [
         "12",
         "390210",
         "2013-02-27 00:00:00",
         "27.42",
         "28.0",
         "27.33",
         "27.81",
         "36390889",
         "MSFT",
         null,
         null,
         null
        ],
        [
         "13",
         "390211",
         "2013-02-28 00:00:00",
         "27.88",
         "27.97",
         "27.74",
         "27.8",
         "35836861",
         "MSFT",
         null,
         null,
         null
        ],
        [
         "14",
         "390212",
         "2013-03-01 00:00:00",
         "27.72",
         "27.98",
         "27.52",
         "27.95",
         "34849287",
         "MSFT",
         null,
         null,
         null
        ],
        [
         "15",
         "390213",
         "2013-03-04 00:00:00",
         "27.85",
         "28.15",
         "27.7",
         "28.15",
         "38163549",
         "MSFT",
         null,
         null,
         null
        ],
        [
         "16",
         "390214",
         "2013-03-05 00:00:00",
         "28.29",
         "28.54",
         "28.16",
         "28.35",
         "41431097",
         "MSFT",
         null,
         null,
         null
        ],
        [
         "17",
         "390215",
         "2013-03-06 00:00:00",
         "28.21",
         "28.23",
         "27.78",
         "28.09",
         "51448452",
         "MSFT",
         null,
         null,
         null
        ],
        [
         "18",
         "390216",
         "2013-03-07 00:00:00",
         "28.11",
         "28.28",
         "28.005",
         "28.14",
         "29196691",
         "MSFT",
         null,
         null,
         null
        ],
        [
         "19",
         "390217",
         "2013-03-08 00:00:00",
         "28.25",
         "28.33",
         "27.96",
         "28.0",
         "37667133",
         "MSFT",
         null,
         null,
         null
        ],
        [
         "20",
         "390218",
         "2013-03-11 00:00:00",
         "27.94",
         "27.97",
         "27.67",
         "27.87",
         "36627200",
         "MSFT",
         null,
         null,
         null
        ],
        [
         "21",
         "390219",
         "2013-03-12 00:00:00",
         "27.84",
         "27.95",
         "27.64",
         "27.91",
         "39252591",
         "MSFT",
         null,
         null,
         null
        ],
        [
         "22",
         "390220",
         "2013-03-13 00:00:00",
         "27.87",
         "28.02",
         "27.75",
         "27.915",
         "29093296",
         "MSFT",
         null,
         null,
         null
        ],
        [
         "23",
         "390221",
         "2013-03-14 00:00:00",
         "28.0",
         "28.16",
         "27.93",
         "28.135",
         "55910657",
         "MSFT",
         null,
         null,
         null
        ],
        [
         "24",
         "390222",
         "2013-03-15 00:00:00",
         "28.03",
         "28.16",
         "27.98",
         "28.035",
         "92709815",
         "MSFT",
         null,
         null,
         null
        ],
        [
         "25",
         "390223",
         "2013-03-18 00:00:00",
         "27.88",
         "28.28",
         "27.81",
         "28.1",
         "44825522",
         "MSFT",
         null,
         null,
         null
        ],
        [
         "26",
         "390224",
         "2013-03-19 00:00:00",
         "28.12",
         "28.22",
         "28.03",
         "28.18",
         "51901568",
         "MSFT",
         null,
         null,
         null
        ],
        [
         "27",
         "390225",
         "2013-03-20 00:00:00",
         "28.34",
         "28.49",
         "28.18",
         "28.315",
         "35447348",
         "MSFT",
         null,
         null,
         null
        ],
        [
         "28",
         "390226",
         "2013-03-21 00:00:00",
         "28.11",
         "28.36",
         "28.05",
         "28.11",
         "34233061",
         "MSFT",
         null,
         null,
         null
        ],
        [
         "29",
         "390227",
         "2013-03-22 00:00:00",
         "28.19",
         "28.3379",
         "28.1",
         "28.25",
         "28689434",
         "MSFT",
         "27.946166666666667",
         null,
         null
        ],
        [
         "30",
         "390228",
         "2013-03-25 00:00:00",
         "28.3",
         "28.35",
         "27.96",
         "28.16",
         "44153931",
         "MSFT",
         "27.9665",
         null,
         null
        ],
        [
         "31",
         "390229",
         "2013-03-26 00:00:00",
         "28.24",
         "28.34",
         "28.11",
         "28.155",
         "27822154",
         "MSFT",
         "27.976333333333336",
         null,
         null
        ],
        [
         "32",
         "390230",
         "2013-03-27 00:00:00",
         "28.14",
         "28.445",
         "28.08",
         "28.37",
         "36046203",
         "MSFT",
         "27.99266666666667",
         null,
         null
        ],
        [
         "33",
         "390231",
         "2013-03-28 00:00:00",
         "28.32",
         "28.66",
         "28.26",
         "28.605",
         "55453713",
         "MSFT",
         "28.011833333333335",
         null,
         null
        ],
        [
         "34",
         "390232",
         "2013-04-01 00:00:00",
         "28.64",
         "28.66",
         "28.36",
         "28.61",
         "29199115",
         "MSFT",
         "28.03083333333333",
         null,
         null
        ],
        [
         "35",
         "390233",
         "2013-04-02 00:00:00",
         "28.59",
         "28.85",
         "28.52",
         "28.8",
         "28455715",
         "MSFT",
         "28.057166666666667",
         null,
         null
        ],
        [
         "36",
         "390234",
         "2013-04-03 00:00:00",
         "28.75",
         "28.95",
         "28.54",
         "28.56",
         "35062269",
         "MSFT",
         "28.074333333333335",
         null,
         null
        ],
        [
         "37",
         "390235",
         "2013-04-04 00:00:00",
         "28.39",
         "28.61",
         "28.27",
         "28.595",
         "45262208",
         "MSFT",
         "28.0985",
         null,
         null
        ],
        [
         "38",
         "390236",
         "2013-04-05 00:00:00",
         "28.22",
         "28.78",
         "28.11",
         "28.7",
         "50927261",
         "MSFT",
         "28.138833333333334",
         null,
         null
        ],
        [
         "39",
         "390237",
         "2013-04-08 00:00:00",
         "28.73",
         "28.73",
         "28.47",
         "28.59",
         "34759424",
         "MSFT",
         "28.1665",
         null,
         null
        ],
        [
         "40",
         "390238",
         "2013-04-09 00:00:00",
         "28.73",
         "29.815",
         "28.68",
         "29.61",
         "77733607",
         "MSFT",
         "28.24116666666667",
         null,
         null
        ],
        [
         "41",
         "390239",
         "2013-04-10 00:00:00",
         "29.57",
         "30.32",
         "29.52",
         "30.28",
         "71024236",
         "MSFT",
         "28.338166666666666",
         null,
         null
        ],
        [
         "42",
         "390240",
         "2013-04-11 00:00:00",
         "29.1",
         "29.2",
         "28.73",
         "28.935",
         "130903838",
         "MSFT",
         "28.375666666666667",
         null,
         null
        ],
        [
         "43",
         "390241",
         "2013-04-12 00:00:00",
         "28.85",
         "29.02",
         "28.66",
         "28.79",
         "62882640",
         "MSFT",
         "28.408666666666665",
         null,
         null
        ],
        [
         "44",
         "390242",
         "2013-04-15 00:00:00",
         "28.65",
         "28.98",
         "28.51",
         "28.69",
         "56332862",
         "MSFT",
         "28.433333333333334",
         null,
         null
        ],
        [
         "45",
         "390243",
         "2013-04-16 00:00:00",
         "28.9",
         "29.14",
         "28.695",
         "28.97",
         "52795256",
         "MSFT",
         "28.460666666666665",
         null,
         null
        ],
        [
         "46",
         "390244",
         "2013-04-17 00:00:00",
         "28.85",
         "29.04",
         "28.6",
         "28.825",
         "52840621",
         "MSFT",
         "28.476499999999998",
         null,
         null
        ],
        [
         "47",
         "390245",
         "2013-04-18 00:00:00",
         "28.95",
         "28.98",
         "28.5",
         "28.79",
         "56772087",
         "MSFT",
         "28.499833333333335",
         null,
         null
        ],
        [
         "48",
         "390246",
         "2013-04-19 00:00:00",
         "29.62",
         "30.24",
         "29.61",
         "29.765",
         "99790116",
         "MSFT",
         "28.554",
         null,
         null
        ],
        [
         "49",
         "390247",
         "2013-04-22 00:00:00",
         "30.3",
         "31.18",
         "30.27",
         "30.83",
         "137901279",
         "MSFT",
         "28.64833333333333",
         null,
         null
        ]
       ],
       "shape": {
        "columns": 11,
        "rows": 1259
       }
      },
      "text/html": [
       "<div>\n",
       "<style scoped>\n",
       "    .dataframe tbody tr th:only-of-type {\n",
       "        vertical-align: middle;\n",
       "    }\n",
       "\n",
       "    .dataframe tbody tr th {\n",
       "        vertical-align: top;\n",
       "    }\n",
       "\n",
       "    .dataframe thead th {\n",
       "        text-align: right;\n",
       "    }\n",
       "</style>\n",
       "<table border=\"1\" class=\"dataframe\">\n",
       "  <thead>\n",
       "    <tr style=\"text-align: right;\">\n",
       "      <th></th>\n",
       "      <th>index</th>\n",
       "      <th>date</th>\n",
       "      <th>open</th>\n",
       "      <th>high</th>\n",
       "      <th>low</th>\n",
       "      <th>close</th>\n",
       "      <th>volume</th>\n",
       "      <th>Name</th>\n",
       "      <th>MA_30</th>\n",
       "      <th>MA_90</th>\n",
       "      <th>Predicted</th>\n",
       "    </tr>\n",
       "  </thead>\n",
       "  <tbody>\n",
       "    <tr>\n",
       "      <th>0</th>\n",
       "      <td>390198</td>\n",
       "      <td>2013-02-08</td>\n",
       "      <td>27.35</td>\n",
       "      <td>27.710</td>\n",
       "      <td>27.3100</td>\n",
       "      <td>27.55</td>\n",
       "      <td>33318306</td>\n",
       "      <td>MSFT</td>\n",
       "      <td>NaN</td>\n",
       "      <td>NaN</td>\n",
       "      <td>NaN</td>\n",
       "    </tr>\n",
       "    <tr>\n",
       "      <th>1</th>\n",
       "      <td>390199</td>\n",
       "      <td>2013-02-11</td>\n",
       "      <td>27.65</td>\n",
       "      <td>27.920</td>\n",
       "      <td>27.5000</td>\n",
       "      <td>27.86</td>\n",
       "      <td>32247549</td>\n",
       "      <td>MSFT</td>\n",
       "      <td>NaN</td>\n",
       "      <td>NaN</td>\n",
       "      <td>NaN</td>\n",
       "    </tr>\n",
       "    <tr>\n",
       "      <th>2</th>\n",
       "      <td>390200</td>\n",
       "      <td>2013-02-12</td>\n",
       "      <td>27.88</td>\n",
       "      <td>28.000</td>\n",
       "      <td>27.7500</td>\n",
       "      <td>27.88</td>\n",
       "      <td>35990829</td>\n",
       "      <td>MSFT</td>\n",
       "      <td>NaN</td>\n",
       "      <td>NaN</td>\n",
       "      <td>NaN</td>\n",
       "    </tr>\n",
       "    <tr>\n",
       "      <th>3</th>\n",
       "      <td>390201</td>\n",
       "      <td>2013-02-13</td>\n",
       "      <td>27.93</td>\n",
       "      <td>28.110</td>\n",
       "      <td>27.8800</td>\n",
       "      <td>28.03</td>\n",
       "      <td>41715530</td>\n",
       "      <td>MSFT</td>\n",
       "      <td>NaN</td>\n",
       "      <td>NaN</td>\n",
       "      <td>NaN</td>\n",
       "    </tr>\n",
       "    <tr>\n",
       "      <th>4</th>\n",
       "      <td>390202</td>\n",
       "      <td>2013-02-14</td>\n",
       "      <td>27.92</td>\n",
       "      <td>28.060</td>\n",
       "      <td>27.8700</td>\n",
       "      <td>28.04</td>\n",
       "      <td>32663174</td>\n",
       "      <td>MSFT</td>\n",
       "      <td>NaN</td>\n",
       "      <td>NaN</td>\n",
       "      <td>NaN</td>\n",
       "    </tr>\n",
       "    <tr>\n",
       "      <th>...</th>\n",
       "      <td>...</td>\n",
       "      <td>...</td>\n",
       "      <td>...</td>\n",
       "      <td>...</td>\n",
       "      <td>...</td>\n",
       "      <td>...</td>\n",
       "      <td>...</td>\n",
       "      <td>...</td>\n",
       "      <td>...</td>\n",
       "      <td>...</td>\n",
       "      <td>...</td>\n",
       "    </tr>\n",
       "    <tr>\n",
       "      <th>1254</th>\n",
       "      <td>391452</td>\n",
       "      <td>2018-02-01</td>\n",
       "      <td>94.79</td>\n",
       "      <td>96.070</td>\n",
       "      <td>93.5813</td>\n",
       "      <td>94.26</td>\n",
       "      <td>47227882</td>\n",
       "      <td>MSFT</td>\n",
       "      <td>89.019000</td>\n",
       "      <td>83.583111</td>\n",
       "      <td>94.719948</td>\n",
       "    </tr>\n",
       "    <tr>\n",
       "      <th>1255</th>\n",
       "      <td>391453</td>\n",
       "      <td>2018-02-02</td>\n",
       "      <td>93.64</td>\n",
       "      <td>93.970</td>\n",
       "      <td>91.5000</td>\n",
       "      <td>91.78</td>\n",
       "      <td>47867753</td>\n",
       "      <td>MSFT</td>\n",
       "      <td>89.217333</td>\n",
       "      <td>83.788889</td>\n",
       "      <td>95.028168</td>\n",
       "    </tr>\n",
       "    <tr>\n",
       "      <th>1256</th>\n",
       "      <td>391454</td>\n",
       "      <td>2018-02-05</td>\n",
       "      <td>90.56</td>\n",
       "      <td>93.240</td>\n",
       "      <td>88.0000</td>\n",
       "      <td>88.00</td>\n",
       "      <td>51031465</td>\n",
       "      <td>MSFT</td>\n",
       "      <td>89.300000</td>\n",
       "      <td>83.952667</td>\n",
       "      <td>94.747139</td>\n",
       "    </tr>\n",
       "    <tr>\n",
       "      <th>1257</th>\n",
       "      <td>391455</td>\n",
       "      <td>2018-02-06</td>\n",
       "      <td>86.89</td>\n",
       "      <td>91.475</td>\n",
       "      <td>85.2500</td>\n",
       "      <td>91.33</td>\n",
       "      <td>67998564</td>\n",
       "      <td>MSFT</td>\n",
       "      <td>89.494333</td>\n",
       "      <td>84.146889</td>\n",
       "      <td>93.581779</td>\n",
       "    </tr>\n",
       "    <tr>\n",
       "      <th>1258</th>\n",
       "      <td>391456</td>\n",
       "      <td>2018-02-07</td>\n",
       "      <td>90.49</td>\n",
       "      <td>91.770</td>\n",
       "      <td>89.2000</td>\n",
       "      <td>89.61</td>\n",
       "      <td>41107592</td>\n",
       "      <td>MSFT</td>\n",
       "      <td>89.631000</td>\n",
       "      <td>84.321778</td>\n",
       "      <td>93.031693</td>\n",
       "    </tr>\n",
       "  </tbody>\n",
       "</table>\n",
       "<p>1259 rows × 11 columns</p>\n",
       "</div>"
      ],
      "text/plain": [
       "       index       date   open    high  ...  Name      MA_30      MA_90  Predicted\n",
       "0     390198 2013-02-08  27.35  27.710  ...  MSFT        NaN        NaN        NaN\n",
       "1     390199 2013-02-11  27.65  27.920  ...  MSFT        NaN        NaN        NaN\n",
       "2     390200 2013-02-12  27.88  28.000  ...  MSFT        NaN        NaN        NaN\n",
       "3     390201 2013-02-13  27.93  28.110  ...  MSFT        NaN        NaN        NaN\n",
       "4     390202 2013-02-14  27.92  28.060  ...  MSFT        NaN        NaN        NaN\n",
       "...      ...        ...    ...     ...  ...   ...        ...        ...        ...\n",
       "1254  391452 2018-02-01  94.79  96.070  ...  MSFT  89.019000  83.583111  94.719948\n",
       "1255  391453 2018-02-02  93.64  93.970  ...  MSFT  89.217333  83.788889  95.028168\n",
       "1256  391454 2018-02-05  90.56  93.240  ...  MSFT  89.300000  83.952667  94.747139\n",
       "1257  391455 2018-02-06  86.89  91.475  ...  MSFT  89.494333  84.146889  93.581779\n",
       "1258  391456 2018-02-07  90.49  91.770  ...  MSFT  89.631000  84.321778  93.031693\n",
       "\n",
       "[1259 rows x 11 columns]"
      ]
     },
     "execution_count": 30,
     "metadata": {},
     "output_type": "execute_result"
    }
   ],
   "source": [
    "df"
   ]
  },
  {
   "cell_type": "code",
   "execution_count": 31,
   "id": "43c3e592",
   "metadata": {},
   "outputs": [
    {
     "data": {
      "text/plain": [
       "62"
      ]
     },
     "execution_count": 31,
     "metadata": {},
     "output_type": "execute_result"
    }
   ],
   "source": [
    "len(predictions)"
   ]
  },
  {
   "cell_type": "code",
   "execution_count": 35,
   "id": "0db3dae1",
   "metadata": {},
   "outputs": [
    {
     "data": {
      "text/plain": [
       "62"
      ]
     },
     "execution_count": 35,
     "metadata": {},
     "output_type": "execute_result"
    }
   ],
   "source": [
    "training_data_len\n",
    "len(data) - training_data_len"
   ]
  },
  {
   "cell_type": "code",
   "execution_count": null,
   "id": "2c75e13c",
   "metadata": {},
   "outputs": [
    {
     "data": {
      "image/png": "[encoded data removed]",
      "text/plain": [
       "<Figure size 1200x800 with 1 Axes>"
      ]
     },
     "metadata": {},
     "output_type": "display_data"
    }
   ],
   "source": [
    "train = data[:training_data_len] #This is taking the entries until the last 62 entries\n",
    "test = data[training_data_len:] #This is taking the last 62 entries\n",
    "\n",
    "test = test.copy()\n",
    "\n",
    "test['predictions'] = predictions\n",
    "\n",
    "plt.figure(figsize=(12,8))\n",
    "plt.plot(train['date'], train['close'], label=\"Actual values\", color='blue')\n",
    "plt.plot(test['date'], test['close'], label=\"Test values\", color='red')\n",
    "plt.plot(test['date'], test['predictions'], label=\"Predicted values\", color='green')\n",
    "plt.title(\"Prediction Result\")\n",
    "plt.xlabel(\"Date\")\n",
    "plt.ylabel(\"Price\")\n",
    "plt.legend()\n",
    "plt.show()\n",
    "\n"
   ]
  },
  {
   "cell_type": "markdown",
   "id": "d4b68b2a",
   "metadata": {},
   "source": [
    "## Evaluation Function to get the Accuracy of our model"
   ]
  },
  {
   "cell_type": "code",
   "execution_count": 41,
   "id": "3d1bb4f2",
   "metadata": {},
   "outputs": [],
   "source": [
    "from sklearn.metrics import mean_absolute_error,mean_squared_error,root_mean_squared_error"
   ]
  },
  {
   "cell_type": "code",
   "execution_count": 37,
   "id": "d586a5cb",
   "metadata": {},
   "outputs": [
    {
     "data": {
      "application/vnd.microsoft.datawrangler.viewer.v0+json": {
       "columns": [
        {
         "name": "index",
         "rawType": "int64",
         "type": "integer"
        },
        {
         "name": "index",
         "rawType": "int64",
         "type": "integer"
        },
        {
         "name": "date",
         "rawType": "datetime64[ns]",
         "type": "datetime"
        },
        {
         "name": "open",
         "rawType": "float64",
         "type": "float"
        },
        {
         "name": "high",
         "rawType": "float64",
         "type": "float"
        },
        {
         "name": "low",
         "rawType": "float64",
         "type": "float"
        },
        {
         "name": "close",
         "rawType": "float64",
         "type": "float"
        },
        {
         "name": "volume",
         "rawType": "int64",
         "type": "integer"
        },
        {
         "name": "Name",
         "rawType": "object",
         "type": "string"
        },
        {
         "name": "MA_30",
         "rawType": "float64",
         "type": "float"
        },
        {
         "name": "MA_90",
         "rawType": "float64",
         "type": "float"
        },
        {
         "name": "Predicted",
         "rawType": "float64",
         "type": "float"
        }
       ],
       "conversionMethod": "pd.DataFrame",
       "ref": "575b8f21-cd59-4003-bd41-eefc56e60353",
       "rows": [
        [
         "0",
         "390198",
         "2013-02-08 00:00:00",
         "27.35",
         "27.71",
         "27.31",
         "27.55",
         "33318306",
         "MSFT",
         null,
         null,
         null
        ],
        [
         "1",
         "390199",
         "2013-02-11 00:00:00",
         "27.65",
         "27.92",
         "27.5",
         "27.86",
         "32247549",
         "MSFT",
         null,
         null,
         null
        ],
        [
         "2",
         "390200",
         "2013-02-12 00:00:00",
         "27.88",
         "28.0",
         "27.75",
         "27.88",
         "35990829",
         "MSFT",
         null,
         null,
         null
        ],
        [
         "3",
         "390201",
         "2013-02-13 00:00:00",
         "27.93",
         "28.11",
         "27.88",
         "28.03",
         "41715530",
         "MSFT",
         null,
         null,
         null
        ],
        [
         "4",
         "390202",
         "2013-02-14 00:00:00",
         "27.92",
         "28.06",
         "27.87",
         "28.04",
         "32663174",
         "MSFT",
         null,
         null,
         null
        ],
        [
         "5",
         "390203",
         "2013-02-15 00:00:00",
         "28.04",
         "28.16",
         "27.875",
         "28.01",
         "49650538",
         "MSFT",
         null,
         null,
         null
        ],
        [
         "6",
         "390204",
         "2013-02-19 00:00:00",
         "27.8801",
         "28.09",
         "27.8",
         "28.045",
         "38804616",
         "MSFT",
         null,
         null,
         null
        ],
        [
         "7",
         "390205",
         "2013-02-20 00:00:00",
         "28.13",
         "28.2",
         "27.83",
         "27.87",
         "44109412",
         "MSFT",
         null,
         null,
         null
        ],
        [
         "8",
         "390206",
         "2013-02-21 00:00:00",
         "27.74",
         "27.74",
         "27.23",
         "27.49",
         "49078338",
         "MSFT",
         null,
         null,
         null
        ],
        [
         "9",
         "390207",
         "2013-02-22 00:00:00",
         "27.68",
         "27.76",
         "27.48",
         "27.76",
         "31425726",
         "MSFT",
         null,
         null,
         null
        ],
        [
         "10",
         "390208",
         "2013-02-25 00:00:00",
         "27.97",
         "28.05",
         "27.37",
         "27.37",
         "48011248",
         "MSFT",
         null,
         null,
         null
        ],
        [
         "11",
         "390209",
         "2013-02-26 00:00:00",
         "27.38",
         "27.6",
         "27.34",
         "27.37",
         "49917353",
         "MSFT",
         null,
         null,
         null
        ],
        [
         "12",
         "390210",
         "2013-02-27 00:00:00",
         "27.42",
         "28.0",
         "27.33",
         "27.81",
         "36390889",
         "MSFT",
         null,
         null,
         null
        ],
        [
         "13",
         "390211",
         "2013-02-28 00:00:00",
         "27.88",
         "27.97",
         "27.74",
         "27.8",
         "35836861",
         "MSFT",
         null,
         null,
         null
        ],
        [
         "14",
         "390212",
         "2013-03-01 00:00:00",
         "27.72",
         "27.98",
         "27.52",
         "27.95",
         "34849287",
         "MSFT",
         null,
         null,
         null
        ],
        [
         "15",
         "390213",
         "2013-03-04 00:00:00",
         "27.85",
         "28.15",
         "27.7",
         "28.15",
         "38163549",
         "MSFT",
         null,
         null,
         null
        ],
        [
         "16",
         "390214",
         "2013-03-05 00:00:00",
         "28.29",
         "28.54",
         "28.16",
         "28.35",
         "41431097",
         "MSFT",
         null,
         null,
         null
        ],
        [
         "17",
         "390215",
         "2013-03-06 00:00:00",
         "28.21",
         "28.23",
         "27.78",
         "28.09",
         "51448452",
         "MSFT",
         null,
         null,
         null
        ],
        [
         "18",
         "390216",
         "2013-03-07 00:00:00",
         "28.11",
         "28.28",
         "28.005",
         "28.14",
         "29196691",
         "MSFT",
         null,
         null,
         null
        ],
        [
         "19",
         "390217",
         "2013-03-08 00:00:00",
         "28.25",
         "28.33",
         "27.96",
         "28.0",
         "37667133",
         "MSFT",
         null,
         null,
         null
        ],
        [
         "20",
         "390218",
         "2013-03-11 00:00:00",
         "27.94",
         "27.97",
         "27.67",
         "27.87",
         "36627200",
         "MSFT",
         null,
         null,
         null
        ],
        [
         "21",
         "390219",
         "2013-03-12 00:00:00",
         "27.84",
         "27.95",
         "27.64",
         "27.91",
         "39252591",
         "MSFT",
         null,
         null,
         null
        ],
        [
         "22",
         "390220",
         "2013-03-13 00:00:00",
         "27.87",
         "28.02",
         "27.75",
         "27.915",
         "29093296",
         "MSFT",
         null,
         null,
         null
        ],
        [
         "23",
         "390221",
         "2013-03-14 00:00:00",
         "28.0",
         "28.16",
         "27.93",
         "28.135",
         "55910657",
         "MSFT",
         null,
         null,
         null
        ],
        [
         "24",
         "390222",
         "2013-03-15 00:00:00",
         "28.03",
         "28.16",
         "27.98",
         "28.035",
         "92709815",
         "MSFT",
         null,
         null,
         null
        ],
        [
         "25",
         "390223",
         "2013-03-18 00:00:00",
         "27.88",
         "28.28",
         "27.81",
         "28.1",
         "44825522",
         "MSFT",
         null,
         null,
         null
        ],
        [
         "26",
         "390224",
         "2013-03-19 00:00:00",
         "28.12",
         "28.22",
         "28.03",
         "28.18",
         "51901568",
         "MSFT",
         null,
         null,
         null
        ],
        [
         "27",
         "390225",
         "2013-03-20 00:00:00",
         "28.34",
         "28.49",
         "28.18",
         "28.315",
         "35447348",
         "MSFT",
         null,
         null,
         null
        ],
        [
         "28",
         "390226",
         "2013-03-21 00:00:00",
         "28.11",
         "28.36",
         "28.05",
         "28.11",
         "34233061",
         "MSFT",
         null,
         null,
         null
        ],
        [
         "29",
         "390227",
         "2013-03-22 00:00:00",
         "28.19",
         "28.3379",
         "28.1",
         "28.25",
         "28689434",
         "MSFT",
         "27.946166666666667",
         null,
         null
        ],
        [
         "30",
         "390228",
         "2013-03-25 00:00:00",
         "28.3",
         "28.35",
         "27.96",
         "28.16",
         "44153931",
         "MSFT",
         "27.9665",
         null,
         null
        ],
        [
         "31",
         "390229",
         "2013-03-26 00:00:00",
         "28.24",
         "28.34",
         "28.11",
         "28.155",
         "27822154",
         "MSFT",
         "27.976333333333336",
         null,
         null
        ],
        [
         "32",
         "390230",
         "2013-03-27 00:00:00",
         "28.14",
         "28.445",
         "28.08",
         "28.37",
         "36046203",
         "MSFT",
         "27.99266666666667",
         null,
         null
        ],
        [
         "33",
         "390231",
         "2013-03-28 00:00:00",
         "28.32",
         "28.66",
         "28.26",
         "28.605",
         "55453713",
         "MSFT",
         "28.011833333333335",
         null,
         null
        ],
        [
         "34",
         "390232",
         "2013-04-01 00:00:00",
         "28.64",
         "28.66",
         "28.36",
         "28.61",
         "29199115",
         "MSFT",
         "28.03083333333333",
         null,
         null
        ],
        [
         "35",
         "390233",
         "2013-04-02 00:00:00",
         "28.59",
         "28.85",
         "28.52",
         "28.8",
         "28455715",
         "MSFT",
         "28.057166666666667",
         null,
         null
        ],
        [
         "36",
         "390234",
         "2013-04-03 00:00:00",
         "28.75",
         "28.95",
         "28.54",
         "28.56",
         "35062269",
         "MSFT",
         "28.074333333333335",
         null,
         null
        ],
        [
         "37",
         "390235",
         "2013-04-04 00:00:00",
         "28.39",
         "28.61",
         "28.27",
         "28.595",
         "45262208",
         "MSFT",
         "28.0985",
         null,
         null
        ],
        [
         "38",
         "390236",
         "2013-04-05 00:00:00",
         "28.22",
         "28.78",
         "28.11",
         "28.7",
         "50927261",
         "MSFT",
         "28.138833333333334",
         null,
         null
        ],
        [
         "39",
         "390237",
         "2013-04-08 00:00:00",
         "28.73",
         "28.73",
         "28.47",
         "28.59",
         "34759424",
         "MSFT",
         "28.1665",
         null,
         null
        ],
        [
         "40",
         "390238",
         "2013-04-09 00:00:00",
         "28.73",
         "29.815",
         "28.68",
         "29.61",
         "77733607",
         "MSFT",
         "28.24116666666667",
         null,
         null
        ],
        [
         "41",
         "390239",
         "2013-04-10 00:00:00",
         "29.57",
         "30.32",
         "29.52",
         "30.28",
         "71024236",
         "MSFT",
         "28.338166666666666",
         null,
         null
        ],
        [
         "42",
         "390240",
         "2013-04-11 00:00:00",
         "29.1",
         "29.2",
         "28.73",
         "28.935",
         "130903838",
         "MSFT",
         "28.375666666666667",
         null,
         null
        ],
        [
         "43",
         "390241",
         "2013-04-12 00:00:00",
         "28.85",
         "29.02",
         "28.66",
         "28.79",
         "62882640",
         "MSFT",
         "28.408666666666665",
         null,
         null
        ],
        [
         "44",
         "390242",
         "2013-04-15 00:00:00",
         "28.65",
         "28.98",
         "28.51",
         "28.69",
         "56332862",
         "MSFT",
         "28.433333333333334",
         null,
         null
        ],
        [
         "45",
         "390243",
         "2013-04-16 00:00:00",
         "28.9",
         "29.14",
         "28.695",
         "28.97",
         "52795256",
         "MSFT",
         "28.460666666666665",
         null,
         null
        ],
        [
         "46",
         "390244",
         "2013-04-17 00:00:00",
         "28.85",
         "29.04",
         "28.6",
         "28.825",
         "52840621",
         "MSFT",
         "28.476499999999998",
         null,
         null
        ],
        [
         "47",
         "390245",
         "2013-04-18 00:00:00",
         "28.95",
         "28.98",
         "28.5",
         "28.79",
         "56772087",
         "MSFT",
         "28.499833333333335",
         null,
         null
        ],
        [
         "48",
         "390246",
         "2013-04-19 00:00:00",
         "29.62",
         "30.24",
         "29.61",
         "29.765",
         "99790116",
         "MSFT",
         "28.554",
         null,
         null
        ],
        [
         "49",
         "390247",
         "2013-04-22 00:00:00",
         "30.3",
         "31.18",
         "30.27",
         "30.83",
         "137901279",
         "MSFT",
         "28.64833333333333",
         null,
         null
        ]
       ],
       "shape": {
        "columns": 11,
        "rows": 1259
       }
      },
      "text/html": [
       "<div>\n",
       "<style scoped>\n",
       "    .dataframe tbody tr th:only-of-type {\n",
       "        vertical-align: middle;\n",
       "    }\n",
       "\n",
       "    .dataframe tbody tr th {\n",
       "        vertical-align: top;\n",
       "    }\n",
       "\n",
       "    .dataframe thead th {\n",
       "        text-align: right;\n",
       "    }\n",
       "</style>\n",
       "<table border=\"1\" class=\"dataframe\">\n",
       "  <thead>\n",
       "    <tr style=\"text-align: right;\">\n",
       "      <th></th>\n",
       "      <th>index</th>\n",
       "      <th>date</th>\n",
       "      <th>open</th>\n",
       "      <th>high</th>\n",
       "      <th>low</th>\n",
       "      <th>close</th>\n",
       "      <th>volume</th>\n",
       "      <th>Name</th>\n",
       "      <th>MA_30</th>\n",
       "      <th>MA_90</th>\n",
       "      <th>Predicted</th>\n",
       "    </tr>\n",
       "  </thead>\n",
       "  <tbody>\n",
       "    <tr>\n",
       "      <th>0</th>\n",
       "      <td>390198</td>\n",
       "      <td>2013-02-08</td>\n",
       "      <td>27.35</td>\n",
       "      <td>27.710</td>\n",
       "      <td>27.3100</td>\n",
       "      <td>27.55</td>\n",
       "      <td>33318306</td>\n",
       "      <td>MSFT</td>\n",
       "      <td>NaN</td>\n",
       "      <td>NaN</td>\n",
       "      <td>NaN</td>\n",
       "    </tr>\n",
       "    <tr>\n",
       "      <th>1</th>\n",
       "      <td>390199</td>\n",
       "      <td>2013-02-11</td>\n",
       "      <td>27.65</td>\n",
       "      <td>27.920</td>\n",
       "      <td>27.5000</td>\n",
       "      <td>27.86</td>\n",
       "      <td>32247549</td>\n",
       "      <td>MSFT</td>\n",
       "      <td>NaN</td>\n",
       "      <td>NaN</td>\n",
       "      <td>NaN</td>\n",
       "    </tr>\n",
       "    <tr>\n",
       "      <th>2</th>\n",
       "      <td>390200</td>\n",
       "      <td>2013-02-12</td>\n",
       "      <td>27.88</td>\n",
       "      <td>28.000</td>\n",
       "      <td>27.7500</td>\n",
       "      <td>27.88</td>\n",
       "      <td>35990829</td>\n",
       "      <td>MSFT</td>\n",
       "      <td>NaN</td>\n",
       "      <td>NaN</td>\n",
       "      <td>NaN</td>\n",
       "    </tr>\n",
       "    <tr>\n",
       "      <th>3</th>\n",
       "      <td>390201</td>\n",
       "      <td>2013-02-13</td>\n",
       "      <td>27.93</td>\n",
       "      <td>28.110</td>\n",
       "      <td>27.8800</td>\n",
       "      <td>28.03</td>\n",
       "      <td>41715530</td>\n",
       "      <td>MSFT</td>\n",
       "      <td>NaN</td>\n",
       "      <td>NaN</td>\n",
       "      <td>NaN</td>\n",
       "    </tr>\n",
       "    <tr>\n",
       "      <th>4</th>\n",
       "      <td>390202</td>\n",
       "      <td>2013-02-14</td>\n",
       "      <td>27.92</td>\n",
       "      <td>28.060</td>\n",
       "      <td>27.8700</td>\n",
       "      <td>28.04</td>\n",
       "      <td>32663174</td>\n",
       "      <td>MSFT</td>\n",
       "      <td>NaN</td>\n",
       "      <td>NaN</td>\n",
       "      <td>NaN</td>\n",
       "    </tr>\n",
       "    <tr>\n",
       "      <th>...</th>\n",
       "      <td>...</td>\n",
       "      <td>...</td>\n",
       "      <td>...</td>\n",
       "      <td>...</td>\n",
       "      <td>...</td>\n",
       "      <td>...</td>\n",
       "      <td>...</td>\n",
       "      <td>...</td>\n",
       "      <td>...</td>\n",
       "      <td>...</td>\n",
       "      <td>...</td>\n",
       "    </tr>\n",
       "    <tr>\n",
       "      <th>1254</th>\n",
       "      <td>391452</td>\n",
       "      <td>2018-02-01</td>\n",
       "      <td>94.79</td>\n",
       "      <td>96.070</td>\n",
       "      <td>93.5813</td>\n",
       "      <td>94.26</td>\n",
       "      <td>47227882</td>\n",
       "      <td>MSFT</td>\n",
       "      <td>89.019000</td>\n",
       "      <td>83.583111</td>\n",
       "      <td>94.719948</td>\n",
       "    </tr>\n",
       "    <tr>\n",
       "      <th>1255</th>\n",
       "      <td>391453</td>\n",
       "      <td>2018-02-02</td>\n",
       "      <td>93.64</td>\n",
       "      <td>93.970</td>\n",
       "      <td>91.5000</td>\n",
       "      <td>91.78</td>\n",
       "      <td>47867753</td>\n",
       "      <td>MSFT</td>\n",
       "      <td>89.217333</td>\n",
       "      <td>83.788889</td>\n",
       "      <td>95.028168</td>\n",
       "    </tr>\n",
       "    <tr>\n",
       "      <th>1256</th>\n",
       "      <td>391454</td>\n",
       "      <td>2018-02-05</td>\n",
       "      <td>90.56</td>\n",
       "      <td>93.240</td>\n",
       "      <td>88.0000</td>\n",
       "      <td>88.00</td>\n",
       "      <td>51031465</td>\n",
       "      <td>MSFT</td>\n",
       "      <td>89.300000</td>\n",
       "      <td>83.952667</td>\n",
       "      <td>94.747139</td>\n",
       "    </tr>\n",
       "    <tr>\n",
       "      <th>1257</th>\n",
       "      <td>391455</td>\n",
       "      <td>2018-02-06</td>\n",
       "      <td>86.89</td>\n",
       "      <td>91.475</td>\n",
       "      <td>85.2500</td>\n",
       "      <td>91.33</td>\n",
       "      <td>67998564</td>\n",
       "      <td>MSFT</td>\n",
       "      <td>89.494333</td>\n",
       "      <td>84.146889</td>\n",
       "      <td>93.581779</td>\n",
       "    </tr>\n",
       "    <tr>\n",
       "      <th>1258</th>\n",
       "      <td>391456</td>\n",
       "      <td>2018-02-07</td>\n",
       "      <td>90.49</td>\n",
       "      <td>91.770</td>\n",
       "      <td>89.2000</td>\n",
       "      <td>89.61</td>\n",
       "      <td>41107592</td>\n",
       "      <td>MSFT</td>\n",
       "      <td>89.631000</td>\n",
       "      <td>84.321778</td>\n",
       "      <td>93.031693</td>\n",
       "    </tr>\n",
       "  </tbody>\n",
       "</table>\n",
       "<p>1259 rows × 11 columns</p>\n",
       "</div>"
      ],
      "text/plain": [
       "       index       date   open    high  ...  Name      MA_30      MA_90  Predicted\n",
       "0     390198 2013-02-08  27.35  27.710  ...  MSFT        NaN        NaN        NaN\n",
       "1     390199 2013-02-11  27.65  27.920  ...  MSFT        NaN        NaN        NaN\n",
       "2     390200 2013-02-12  27.88  28.000  ...  MSFT        NaN        NaN        NaN\n",
       "3     390201 2013-02-13  27.93  28.110  ...  MSFT        NaN        NaN        NaN\n",
       "4     390202 2013-02-14  27.92  28.060  ...  MSFT        NaN        NaN        NaN\n",
       "...      ...        ...    ...     ...  ...   ...        ...        ...        ...\n",
       "1254  391452 2018-02-01  94.79  96.070  ...  MSFT  89.019000  83.583111  94.719948\n",
       "1255  391453 2018-02-02  93.64  93.970  ...  MSFT  89.217333  83.788889  95.028168\n",
       "1256  391454 2018-02-05  90.56  93.240  ...  MSFT  89.300000  83.952667  94.747139\n",
       "1257  391455 2018-02-06  86.89  91.475  ...  MSFT  89.494333  84.146889  93.581779\n",
       "1258  391456 2018-02-07  90.49  91.770  ...  MSFT  89.631000  84.321778  93.031693\n",
       "\n",
       "[1259 rows x 11 columns]"
      ]
     },
     "execution_count": 37,
     "metadata": {},
     "output_type": "execute_result"
    }
   ],
   "source": [
    "df"
   ]
  },
  {
   "cell_type": "code",
   "execution_count": 43,
   "id": "e9da96c4",
   "metadata": {},
   "outputs": [
    {
     "name": "stdout",
     "output_type": "stream",
     "text": [
      "Error Metrics on Last 62 Rows\n",
      "--------------------------------------------------\n",
      "Mean Absolute Error:- 1.39\n",
      "Mean Squared Error:- 3.26\n",
      "Root Mean Squared Error:- 1.81\n",
      "Mean Absolute Percentage Error:- 1.62%\n"
     ]
    },
    {
     "data": {
      "text/plain": [
       "{'MAE': 1.3903148183514995,\n",
       " 'MSE': 3.264710259974201,\n",
       " 'RMSE': 1.8068509235612662,\n",
       " 'MAPE': 1.6218547072564067}"
      ]
     },
     "execution_count": 43,
     "metadata": {},
     "output_type": "execute_result"
    }
   ],
   "source": [
    "def error_metrics(df, actual_col = 'close' , prediction_col = 'Predicted'):\n",
    "    #Don't consider the Null Values\n",
    "    valid_rows = df[[actual_col, prediction_col]].dropna()\n",
    "    \n",
    "    actual = valid_rows[actual_col]\n",
    "    predicted = valid_rows[prediction_col]\n",
    "    \n",
    "    #Compute the error metrics\n",
    "    mae = mean_absolute_error(actual, predicted)\n",
    "    mse = mean_squared_error(actual, predicted)\n",
    "    rmse = root_mean_squared_error(actual, predicted)\n",
    "    mape = np.mean(np.abs((actual - predicted) / actual))*100\n",
    "    \n",
    "    print(f\"Error Metrics on Last {len(valid_rows)} Rows\")\n",
    "    print(\"-\"*50)\n",
    "    print(f\"Mean Absolute Error:- {mae:.2f}\")\n",
    "    print(f\"Mean Squared Error:- {mse:.2f}\")\n",
    "    print(f\"Root Mean Squared Error:- {rmse:.2f}\")\n",
    "    print(f\"Mean Absolute Percentage Error:- {mape:.2f}%\")\n",
    "    \n",
    "    return {'MAE': mae, 'MSE': mse, 'RMSE': rmse, 'MAPE': mape}\n",
    "\n",
    "error_metrics(df)\n",
    "    "
   ]
  },
  {
   "cell_type": "code",
   "execution_count": null,
   "id": "5b76a042",
   "metadata": {},
   "outputs": [],
   "source": []
  }
 ],
 "metadata": {
  "kernelspec": {
   "display_name": "Python 3",
   "language": "python",
   "name": "python3"
  },
  "language_info": {
   "codemirror_mode": {
    "name": "ipython",
    "version": 3
   },
   "file_extension": ".py",
   "mimetype": "text/x-python",
   "name": "python",
   "nbconvert_exporter": "python",
   "pygments_lexer": "ipython3",
   "version": "3.12.3"
  }
 },
 "nbformat": 4,
 "nbformat_minor": 5
}
